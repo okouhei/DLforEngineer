{
  "nbformat": 4,
  "nbformat_minor": 0,
  "metadata": {
    "kernelspec": {
      "name": "python3",
      "display_name": "Python 3"
    },
    "language_info": {
      "codemirror_mode": {
        "name": "ipython",
        "version": 3
      },
      "file_extension": ".py",
      "mimetype": "text/x-python",
      "name": "python",
      "nbconvert_exporter": "python",
      "pygments_lexer": "ipython3",
      "version": "3.6.5"
    },
    "colab": {
      "name": "2_1_2_np_regression.ipynb",
      "provenance": [],
      "collapsed_sections": [],
      "toc_visible": true
    }
  },
  "cells": [
    {
      "cell_type": "markdown",
      "metadata": {
        "id": "bk4GTn-iHSAD"
      },
      "source": [
        "# 回帰分析"
      ]
    },
    {
      "cell_type": "code",
      "metadata": {
        "id": "0sO431xmHSAE"
      },
      "source": [
        "%matplotlib inline\n",
        "import numpy as np\n",
        "import matplotlib.pyplot as plt"
      ],
      "execution_count": 1,
      "outputs": []
    },
    {
      "cell_type": "markdown",
      "metadata": {
        "id": "1KEGbz8zHSAP"
      },
      "source": [
        "# 単回帰"
      ]
    },
    {
      "cell_type": "markdown",
      "metadata": {
        "id": "ZGpUibElHSAQ"
      },
      "source": [
        "## 訓練データ生成"
      ]
    },
    {
      "cell_type": "code",
      "metadata": {
        "id": "nS30gFWLHSAR"
      },
      "source": [
        "n_sample = 100\n",
        "var = .2\n",
        "\n",
        "def linear_func(x):\n",
        "    return 2 * x + 5\n",
        "\n",
        "def add_noise(y_true, var):\n",
        "    return y_true + np.random.normal(scale=var, size=y_true.shape)\n",
        "\n",
        "def plt_result(xs_train, ys_true, ys_train):\n",
        "    plt.scatter(xs_train, ys_train, facecolor=\"none\", edgecolor=\"b\", s=50,  label=\"training data\")\n",
        "    plt.plot(xs_train, ys_true, label=\"$2 x + 5$\")\n",
        "    plt.legend()"
      ],
      "execution_count": 2,
      "outputs": []
    },
    {
      "cell_type": "code",
      "metadata": {
        "id": "btf9omCHHSAS",
        "colab": {
          "base_uri": "https://localhost:8080/",
          "height": 319
        },
        "outputId": "aef771be-40bd-427b-de90-bbae144b3e07"
      },
      "source": [
        "#データの作成\n",
        "xs = np.linspace(0, 1, n_sample)\n",
        "ys_true = linear_func(xs)\n",
        "ys = add_noise(ys_true, var)\n",
        "\n",
        "print(\"xs: {}\".format(xs.shape))\n",
        "print(\"ys_true: {}\".format(ys_true.shape))\n",
        "print(\"ys: {}\".format(ys.shape))\n",
        "\n",
        "#結果の描画\n",
        "plt_result(xs, ys_true, ys)"
      ],
      "execution_count": 3,
      "outputs": [
        {
          "output_type": "stream",
          "text": [
            "xs: (100,)\n",
            "ys_true: (100,)\n",
            "ys: (100,)\n"
          ],
          "name": "stdout"
        },
        {
          "output_type": "display_data",
          "data": {
            "image/png": "[encoded data removed]",
            "text/plain": [
              "<Figure size 432x288 with 1 Axes>"
            ]
          },
          "metadata": {
            "tags": [],
            "needs_background": "light"
          }
        }
      ]
    },
    {
      "cell_type": "markdown",
      "metadata": {
        "id": "CeDSadB3HSAV"
      },
      "source": [
        "## 学習"
      ]
    },
    {
      "cell_type": "markdown",
      "metadata": {
        "id": "T6-dkGDkHSAW"
      },
      "source": [
        "１次関数$y(x) = a x + b$における、$a$と$b$を求める。\n",
        "\n",
        "訓練データ$X = [x_{1}, x_{2}, ..., x_{n}]^{\\mathrm{T}}, \\boldsymbol{y} = [y_{1}, y_{2}, ..., y_{n}]^{\\mathrm{T}}$に対して、最小化する目的関数は$L = \\sum_{i=1}^{n} \\left( y_{i} - (a x_{i} + b) \\right)^2$と書け、\n",
        "\n",
        "$\\frac{\\partial L}{\\partial a} = -2\\sum_{i=1}^{n} \\left( y_{i} - (a x_{i} + b) \\right) x_{i} = 0$\n",
        "\n",
        "$\\frac{\\partial L}{\\partial b} = -2\\sum_{i=1}^{n} \\left( y_{i} - (a x_{i} + b) \\right) = 0 \\cdots (1)$\n",
        "\n",
        "より、目的関数を最小にする$a, b$は以下のように求まる。\n",
        "\n",
        "\\begin{eqnarray}\n",
        "\\left( \n",
        "\\begin{array}{cc}\n",
        "\\sum_{i=1}^{n} x_{i}^{2} & \\sum_{i=1}^{n} x_{i} \\\\\n",
        "\\sum_{i=1}^{n} x_{i} & n\n",
        "\\end{array}\n",
        "\\right)\n",
        "\\left( \n",
        "\\begin{array}{cc}\n",
        "\\hat{a} \\\\\n",
        "\\hat{b}  \n",
        "\\end{array}\n",
        "\\right)\n",
        "&=&\n",
        "\\left( \n",
        "\\begin{array}{cc}\n",
        "\\sum_{i=1}^{n} x_{i} y_{i} \\\\\n",
        "\\sum_{i=1}^{n} y_{i}  \n",
        "\\end{array}\n",
        "\\right) \\\\ \n",
        "\\left( \n",
        "\\begin{array}{cc}\n",
        "\\hat{a} \\\\\n",
        "\\hat{b}  \n",
        "\\end{array}\n",
        "\\right)\n",
        "&=&\n",
        "\\frac{1}{n \\sum_{i=1}^{n} x_{i}^{2} - (\\sum_{i=1}^{n} x_{i})^{2}}\n",
        "\\left( \n",
        "\\begin{array}{cc}\n",
        "n & -\\sum_{i=1}^{n} x_{i} \\\\\n",
        "-\\sum_{i=1}^{n} x_{i} & \\sum_{i=1}^{n} x_{i}^{2}\n",
        "\\end{array}\n",
        "\\right)\n",
        "\\left( \n",
        "\\begin{array}{cc}\n",
        "\\sum_{i=1}^{n} x_{i} y_{i} \\\\\n",
        "\\sum_{i=1}^{n} y_{i}  \n",
        "\\end{array}\n",
        "\\right) \\\\\n",
        "&=&\n",
        "\\frac{1}{n \\sum_{i=1}^{n} x_{i}^{2} - (\\sum_{i=1}^{n} x_{i})^{2}}\n",
        "\\left( \n",
        "\\begin{array}{cc}\n",
        "n \\sum_{i=1}^{n} x_{i} y_{i} - \\sum_{i=1}^{n} x_{i} \\sum_{i=1}^{n} y_{i}\\\\\n",
        "\\sum_{i=1}^{n} x_{i}^{2} \\sum_{i=1}^{n} y_{i} -\\sum_{i=1}^{n} x_{i} \\sum_{i=1}^{n} x_{i} y_{i}\n",
        "\\end{array}\n",
        "\\right) \\cdots (2)\n",
        "\\end{eqnarray}\n",
        "\n",
        "(1), (2)から$\\hat{a} = \\text{Cov}[x, y] / \\text{Var}[x], \\hat{b} = \\mu_{y} - \\hat{a} \\mu_{x}$で求める。"
      ]
    },
    {
      "cell_type": "code",
      "metadata": {
        "id": "N9U2bOsvHSAW",
        "colab": {
          "base_uri": "https://localhost:8080/"
        },
        "outputId": "3c8d97d1-1633-4a2a-b865-686a2f4da53f"
      },
      "source": [
        "#numpy実装の回帰\n",
        "def train(xs, ys):\n",
        "    cov = np.cov(xs, ys, ddof=0)\n",
        "    a = cov[0, 1] / cov[0, 0]\n",
        "    b = np.mean(ys) - a * np.mean(xs)\n",
        "    return cov, a, b\n",
        "\n",
        "cov, a, b = train(xs, ys)\n",
        "print(\"cov: {}\".format(cov))\n",
        "print(\"coef: {}\".format(a))\n",
        "print(\"intercept: {}\".format(b))"
      ],
      "execution_count": 4,
      "outputs": [
        {
          "output_type": "stream",
          "text": [
            "cov: [[0.08501684 0.17261256]\n",
            " [0.17261256 0.39170879]]\n",
            "coef: 2.0303339029805394\n",
            "intercept: 4.999056747112689\n"
          ],
          "name": "stdout"
        }
      ]
    },
    {
      "cell_type": "code",
      "metadata": {
        "id": "vzLGthCcHSAY",
        "colab": {
          "base_uri": "https://localhost:8080/"
        },
        "outputId": "81379b7b-7490-4823-d6bb-ea2212c43786"
      },
      "source": [
        "#skl実装の回帰\n",
        "from sklearn.linear_model import LinearRegression\n",
        "model = LinearRegression()\n",
        "reg = model.fit(xs.reshape(-1, 1), ys.reshape(-1, 1))\n",
        "\n",
        "print(\"coef_: {}\".format(reg.coef_))\n",
        "print(\"intercept_: {}\".format(reg.intercept_))"
      ],
      "execution_count": 5,
      "outputs": [
        {
          "output_type": "stream",
          "text": [
            "coef_: [[2.0303339]]\n",
            "intercept_: [4.99905675]\n"
          ],
          "name": "stdout"
        }
      ]
    },
    {
      "cell_type": "markdown",
      "metadata": {
        "id": "nkIRiLImHSAa"
      },
      "source": [
        "## 予測"
      ]
    },
    {
      "cell_type": "markdown",
      "metadata": {
        "id": "Dka3bJazHSAa"
      },
      "source": [
        "入力に対する値を$y(x) = a x + b$で予測する"
      ]
    },
    {
      "cell_type": "code",
      "metadata": {
        "id": "cHIpbeYyHSAb",
        "colab": {
          "base_uri": "https://localhost:8080/",
          "height": 265
        },
        "outputId": "d1d0ce06-e548-4634-cf2f-bc4cc347229b"
      },
      "source": [
        "xs_new = np.linspace(0, 1, n_sample)\n",
        "ys_pred = a * xs_new + b\n",
        "\n",
        "plt.scatter(xs, ys, facecolor=\"none\", edgecolor=\"b\", s=50, label=\"training data\")\n",
        "plt.plot(xs_new, ys_true, label=\"$2 x + 5$\")\n",
        "plt.plot(xs_new, ys_pred, label=\"prediction (a={:.2}, b={:.2})\".format(a, b))\n",
        "plt.legend()\n",
        "plt.show()"
      ],
      "execution_count": 6,
      "outputs": [
        {
          "output_type": "display_data",
          "data": {
            "image/png": "[encoded data removed]",
            "text/plain": [
              "<Figure size 432x288 with 1 Axes>"
            ]
          },
          "metadata": {
            "tags": [],
            "needs_background": "light"
          }
        }
      ]
    },
    {
      "cell_type": "markdown",
      "metadata": {
        "id": "lEN6PthPHSAd"
      },
      "source": [
        "# 多項式回帰"
      ]
    },
    {
      "cell_type": "markdown",
      "metadata": {
        "id": "jbbMMFebHSAd"
      },
      "source": [
        "## 訓練データ生成"
      ]
    },
    {
      "cell_type": "code",
      "metadata": {
        "id": "HZZu2pUdHSAe"
      },
      "source": [
        "n_sample = 10\n",
        "var = .25\n",
        "\n",
        "def sin_func(x):\n",
        "    return np.sin(2 * np.pi * x) \n",
        "\n",
        "def add_noise(y_true, var):\n",
        "    return y_true + np.random.normal(scale=var, size=y_true.shape)\n",
        "\n",
        "def plt_result(xs, ys_true, ys):\n",
        "    plt.scatter(xs, ys,facecolor=\"none\", edgecolor=\"b\", s=50,  label=\"training data\")\n",
        "    plt.plot(xs, ys_true, label=\"$\\sin(2\\pi x)$\")\n",
        "    plt.legend()"
      ],
      "execution_count": 7,
      "outputs": []
    },
    {
      "cell_type": "code",
      "metadata": {
        "id": "X-ZCQ9bsHSAh",
        "colab": {
          "base_uri": "https://localhost:8080/",
          "height": 319
        },
        "outputId": "b7d45da3-a681-4a3a-9b09-f559af3bf308"
      },
      "source": [
        "#データの作成\n",
        "xs = np.linspace(0, 1, n_sample)\n",
        "ys_true = sin_func(xs)\n",
        "ys = add_noise(ys_true, var)\n",
        "\n",
        "print(\"xs: {}\".format(xs.shape))\n",
        "print(\"ys_true: {}\".format(ys_true.shape))\n",
        "print(\"ys: {}\".format(ys.shape))\n",
        "\n",
        "#結果の描画\n",
        "plt_result(xs, ys_true, ys)"
      ],
      "execution_count": 8,
      "outputs": [
        {
          "output_type": "stream",
          "text": [
            "xs: (10,)\n",
            "ys_true: (10,)\n",
            "ys: (10,)\n"
          ],
          "name": "stdout"
        },
        {
          "output_type": "display_data",
          "data": {
            "image/png": "[encoded data removed]",
            "text/plain": [
              "<Figure size 432x288 with 1 Axes>"
            ]
          },
          "metadata": {
            "tags": [],
            "needs_background": "light"
          }
        }
      ]
    },
    {
      "cell_type": "markdown",
      "metadata": {
        "id": "A5uKlEnhHSAi"
      },
      "source": [
        "## 学習"
      ]
    },
    {
      "cell_type": "markdown",
      "metadata": {
        "id": "LUNT75JZHSAj"
      },
      "source": [
        "モデルとして以下を用いる。\n",
        "\n",
        "$y(x) = \\sum_{i=0}^{d} w_{i} x^{i} = \\boldsymbol{w}^{\\mathrm{T}} \\boldsymbol{\\phi(x)}$\n",
        "\n",
        "ただし、$\\boldsymbol{w}=[w_{0}, w_{1}, ..., w_{d}]^{\\mathrm{T}}, \\boldsymbol{\\phi(x)} = [1, x, x^{2}, ..., x^{d}]^{\\mathrm{T}}$である。\n",
        "\n",
        "訓練データ$X, \\boldsymbol{y}$に対しては\n",
        "$\\boldsymbol{y} = \\Phi \\boldsymbol{w}$と書ける。\n",
        "\n",
        "ただし、$\\Phi = [\\boldsymbol{\\phi}(x_{1}), \\boldsymbol{\\phi}(x_{2}),.., \\boldsymbol{\\phi}(x_{n})]^{\\mathrm{T}}$である。\n",
        "\n",
        "よって、最小化する目的関数は$L = ||\\boldsymbol{y}  - \\Phi \\boldsymbol{w}||^2$と書け、\n",
        "\n",
        "$\\frac{\\partial L}{\\partial \\boldsymbol{w}} = - 2 \\Phi^{\\mathrm{T}} (\\boldsymbol{y} - \\Phi \\boldsymbol{w}) = 0$より、求める回帰係数$\\boldsymbol{w}$は以下のように書ける。\n",
        "\n",
        "$\\hat{\\boldsymbol{w}} = \\left( \\Phi^{\\mathrm{T}} \\Phi \\right)^{-1}  \\Phi^{\\mathrm{T}} \\boldsymbol{y}$"
      ]
    },
    {
      "cell_type": "code",
      "metadata": {
        "id": "OTuv5a95HSAj"
      },
      "source": [
        "def polynomial_features(xs, degree=3):\n",
        "    \"\"\"多項式特徴ベクトルに変換\n",
        "         X = [[1, x1, x1^2, x1^3],\n",
        "                 [1, x2, x2^2, x2^3],\n",
        "                   ...                             \n",
        "                 [1, xn, xn^2, xn^3]]\"\"\"\n",
        "    X = np.ones((len(xs), degree+1))\n",
        "    X_t = X.T #(100, 4)\n",
        "    for i in range(1, degree+1):\n",
        "        X_t[i] = X_t[i-1] * xs\n",
        "    return X_t.T"
      ],
      "execution_count": 9,
      "outputs": []
    },
    {
      "cell_type": "code",
      "metadata": {
        "id": "jRvWrZHNHSAl"
      },
      "source": [
        "Phi = polynomial_features(xs)\n",
        "Phi_inv = np.dot(np.linalg.inv(np.dot(Phi.T, Phi)), Phi.T)\n",
        "w = np.dot(Phi_inv, ys)"
      ],
      "execution_count": 10,
      "outputs": []
    },
    {
      "cell_type": "markdown",
      "metadata": {
        "id": "NfV_CGaGHSAm"
      },
      "source": [
        "## 予測"
      ]
    },
    {
      "cell_type": "markdown",
      "metadata": {
        "id": "tuV309d0HSAn"
      },
      "source": [
        "入力を多項式特徴ベクトル$\\boldsymbol{\\phi(x)}$に変換し、$y = \\hat{\\boldsymbol{w}} \\boldsymbol{\\phi(x)}\\  (\\boldsymbol{y}(x) = \\Phi \\hat{\\boldsymbol{w}})$で予測する。"
      ]
    },
    {
      "cell_type": "code",
      "metadata": {
        "id": "j6M59hw2HSAn"
      },
      "source": [
        "Phi_test = polynomial_features(xs)\n",
        "ys_pred = np.dot(Phi_test, w)"
      ],
      "execution_count": 11,
      "outputs": []
    },
    {
      "cell_type": "code",
      "metadata": {
        "id": "VQhx95HUHSAp",
        "colab": {
          "base_uri": "https://localhost:8080/",
          "height": 265
        },
        "outputId": "c2161643-6aee-40d5-a177-49a10c99f00a"
      },
      "source": [
        "plt.scatter(xs, ys, facecolor=\"none\", edgecolor=\"b\", s=50, label=\"training data\")\n",
        "plt.plot(xs, ys_true, label=\"$\\sin(2\\pi x)$\")\n",
        "plt.plot(xs, ys_pred, label=\"prediction\")\n",
        "# for i in range(0, 4):\n",
        "#     plt.plot(xs, Phi[:, i], label=\"basis\")\n",
        "plt.legend()\n",
        "plt.show()"
      ],
      "execution_count": 12,
      "outputs": [
        {
          "output_type": "display_data",
          "data": {
            "image/png": "[encoded data removed]",
            "text/plain": [
              "<Figure size 432x288 with 1 Axes>"
            ]
          },
          "metadata": {
            "tags": [],
            "needs_background": "light"
          }
        }
      ]
    },
    {
      "cell_type": "markdown",
      "metadata": {
        "id": "PiR6GJU1HSAq"
      },
      "source": [
        "# 重回帰分析"
      ]
    },
    {
      "cell_type": "markdown",
      "metadata": {
        "id": "VDBo3R08HSAr"
      },
      "source": [
        "## 訓練データ生成 (3次元入力)"
      ]
    },
    {
      "cell_type": "code",
      "metadata": {
        "id": "4fFRNHK7HSAr",
        "colab": {
          "base_uri": "https://localhost:8080/"
        },
        "outputId": "afde2057-87b6-41a6-d119-fe042101897a"
      },
      "source": [
        "np.random.random((10, 3))"
      ],
      "execution_count": 13,
      "outputs": [
        {
          "output_type": "execute_result",
          "data": {
            "text/plain": [
              "array([[0.22370597, 0.49173534, 0.85147332],\n",
              "       [0.1536117 , 0.18871778, 0.84841472],\n",
              "       [0.09205915, 0.91047094, 0.63079819],\n",
              "       [0.85258773, 0.32857663, 0.57241065],\n",
              "       [0.21422247, 0.68452325, 0.77727042],\n",
              "       [0.32375737, 0.14885221, 0.23349875],\n",
              "       [0.01559868, 0.36794617, 0.79250923],\n",
              "       [0.12924868, 0.85443246, 0.62152369],\n",
              "       [0.82890688, 0.85072043, 0.50575424],\n",
              "       [0.93412386, 0.17210982, 0.66931246]])"
            ]
          },
          "metadata": {
            "tags": []
          },
          "execution_count": 13
        }
      ]
    },
    {
      "cell_type": "code",
      "metadata": {
        "id": "FREQqxc9HSAt"
      },
      "source": [
        "n_sample = 100\n",
        "var = .2\n",
        "\n",
        "def mul_linear_func(x):\n",
        "    ww = [1., 0.5, 2., 1.]\n",
        "    return ww[0] + ww[1] * x[:, 0] + ww[2] * x[:, 1] + ww[3] * x[:, 2]\n",
        "\n",
        "def add_noise(y_true, var):\n",
        "    return y_true + np.random.normal(scale=var, size=y_true.shape)\n",
        "\n",
        "def plt_result(xs_train, ys_true, ys_train):\n",
        "    plt.scatter(xs_train, ys_train, facecolor=\"none\", edgecolor=\"b\", s=50,  label=\"training data\")\n",
        "    # plt.plot(xs_train, ys_true, label=\"$2 x + 5$\")\n",
        "    plt.legend()"
      ],
      "execution_count": 14,
      "outputs": []
    },
    {
      "cell_type": "code",
      "metadata": {
        "id": "YC_OOJKvHSAv"
      },
      "source": [
        "x_dim = 3\n",
        "\n",
        "X = np.random.random((n_sample, x_dim))\n",
        "ys_true = mul_linear_func(X)\n",
        "ys = add_noise(ys_true, var)"
      ],
      "execution_count": 15,
      "outputs": []
    },
    {
      "cell_type": "markdown",
      "metadata": {
        "id": "IFSz-V6eHSAx"
      },
      "source": [
        "## 学習"
      ]
    },
    {
      "cell_type": "markdown",
      "metadata": {
        "id": "OCynMBleHSAy"
      },
      "source": [
        "モデルとして以下を用いる。\n",
        "\n",
        "$y(x) = \\sum_{i=0}^{d} w_{i} x_{i} = \\boldsymbol{w}^{\\mathrm{T}}  \\boldsymbol{x}$\n",
        "\n",
        "ただし、陽には書かないが、$\\boldsymbol{x}$には定数項のための$1$という要素があることを仮定する。\n",
        "\n",
        "訓練データ$X, \\boldsymbol{y}$に対しては$\\boldsymbol{y} = X \\boldsymbol{w}$と書ける。\n",
        "\n",
        "よって、最小化する目的関数は$L = ||\\boldsymbol{y}  - X \\boldsymbol{w}||^2$と書け、\n",
        "\n",
        "$\\frac{\\partial L}{\\partial \\boldsymbol{w}} = - 2 X^{\\mathrm{T}} (\\boldsymbol{y} - X \\boldsymbol{w}) = 0$より、求める回帰係数$\\boldsymbol{w}$は以下のように書ける。\n",
        "\n",
        "$\\hat{\\boldsymbol{w}} = \\left( X^{\\mathrm{T}} X \\right)^{-1}  X^{\\mathrm{T}} \\boldsymbol{y}$"
      ]
    },
    {
      "cell_type": "code",
      "metadata": {
        "id": "vS721xeEHSAy"
      },
      "source": [
        "def add_one(x):\n",
        "    return np.concatenate([np.ones(len(x))[:, None], x], axis=1)\n",
        "\n",
        "X_train = add_one(X)\n",
        "pinv = np.dot(np.linalg.inv(np.dot(X_train.T, X_train)), X_train.T)\n",
        "# w = np.dot(pinv, y_train)\n",
        "w = np.dot(pinv, ys)"
      ],
      "execution_count": 16,
      "outputs": []
    },
    {
      "cell_type": "markdown",
      "metadata": {
        "id": "GEv5lMXnHSA2"
      },
      "source": [
        "## 予測"
      ]
    },
    {
      "cell_type": "markdown",
      "metadata": {
        "id": "xknsRJbIHSA2"
      },
      "source": [
        "入力に対する値を$y(x) = \\hat{\\boldsymbol{w}}^{\\mathrm{T}}  \\boldsymbol{x} \\ (\\boldsymbol{y} = X\\hat{\\boldsymbol{w}})$で予測する"
      ]
    },
    {
      "cell_type": "markdown",
      "metadata": {
        "id": "DfBqqomPHSA2"
      },
      "source": [
        "## パラメータ推定結果"
      ]
    },
    {
      "cell_type": "code",
      "metadata": {
        "id": "ayAK630nHSA5"
      },
      "source": [
        "ww = [1., 0.5, 2., 1.]"
      ],
      "execution_count": 17,
      "outputs": []
    },
    {
      "cell_type": "code",
      "metadata": {
        "id": "OGuRXijhHSA4",
        "colab": {
          "base_uri": "https://localhost:8080/"
        },
        "outputId": "9ca8bc7b-ca4f-4d20-aed5-3c2463197133"
      },
      "source": [
        "for i in range(len(w)):\n",
        "    print(\"w{0}_true: {1:>5.2}   w{0}_estimated: {2:>5.5}\".format(i, ww[i], w[i]))"
      ],
      "execution_count": 18,
      "outputs": [
        {
          "output_type": "stream",
          "text": [
            "w0_true:   1.0   w0_estimated: 1.0271\n",
            "w1_true:   0.5   w1_estimated: 0.54766\n",
            "w2_true:   2.0   w2_estimated: 1.9174\n",
            "w3_true:   1.0   w3_estimated: 0.98117\n"
          ],
          "name": "stdout"
        }
      ]
    },
    {
      "cell_type": "markdown",
      "metadata": {
        "id": "im4Z45b1nUsT"
      },
      "source": [
        "##scikit-learn実装による重回帰分析のパラメータ推定\n"
      ]
    },
    {
      "cell_type": "code",
      "metadata": {
        "colab": {
          "base_uri": "https://localhost:8080/"
        },
        "id": "4M4OPhNXaQRB",
        "outputId": "a146353b-101e-499a-db8c-87e3fd2ec1ce"
      },
      "source": [
        "model = LinearRegression()\n",
        "model.fit(X_train, ys)\n",
        "\n",
        "print(model.coef_)\n",
        "print(model.intercept_)\n",
        "\n",
        "print(\"w{0}_true: {1:>5.2}   w{0}_estimated: {2:>5.5}\".format(0, ww[0], model.intercept_))\n",
        "for i in (range(len(w)-1)):\n",
        "  print(\"w{0}_true: {1:>5.2}   w{0}_estimated: {2:>5.5}\".format(i, ww[i+1], model.coef_[i+1]))"
      ],
      "execution_count": 19,
      "outputs": [
        {
          "output_type": "stream",
          "text": [
            "[0.         0.54766395 1.91743446 0.98116633]\n",
            "1.027139606528089\n",
            "w0_true:   1.0   w0_estimated: 1.0271\n",
            "w0_true:   0.5   w0_estimated: 0.54766\n",
            "w1_true:   2.0   w1_estimated: 1.9174\n",
            "w2_true:   1.0   w2_estimated: 0.98117\n"
          ],
          "name": "stdout"
        }
      ]
    },
    {
      "cell_type": "markdown",
      "metadata": {
        "id": "NM-0gmiByLLi"
      },
      "source": [
        "#まとめ\n",
        "Numpyのみを用いてそれぞれのパラメータの推定を実装し,scikit-learnで実装したものと結果が同じくなる事を確かめた。\n"
      ]
    }
  ]
}