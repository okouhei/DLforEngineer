{
  "nbformat": 4,
  "nbformat_minor": 0,
  "metadata": {
    "kernelspec": {
      "name": "python3",
      "display_name": "Python 3"
    },
    "language_info": {
      "codemirror_mode": {
        "name": "ipython",
        "version": 3
      },
      "file_extension": ".py",
      "mimetype": "text/x-python",
      "name": "python",
      "nbconvert_exporter": "python",
      "pygments_lexer": "ipython3",
      "version": "3.6.5"
    },
    "colab": {
      "name": "2_1_3_1_skl_logistic_regression.ipynb",
      "provenance": [],
      "collapsed_sections": [],
      "toc_visible": true
    }
  },
  "cells": [
    {
      "cell_type": "markdown",
      "metadata": {
        "id": "uZVJPuPmYFDe"
      },
      "source": [
        "#ロジスティック回帰モデル（タイタニックデータ解析）\n",
        "\n",
        "* 設定\n",
        " - タイタニック乗客データを使用しロジスティック回帰モデルを作成\n",
        " - 特徴量抽出をしてみる\n",
        "\n",
        "* 課題\n",
        " - 年齢が30歳で男の乗客は生き残れるか？\n",
        "\n",
        "\n",
        " データセット名 | タイタニックデータ \n",
        " :---: | :---: \n",
        " レコード数 | 891/471 \n",
        " カラム数 | 11 \n",
        " 詳細 | kaggle \n",
        " 備考 | 分類アルゴリズムで良く利用される "
      ]
    },
    {
      "cell_type": "markdown",
      "metadata": {
        "id": "xUsinekoKPMl"
      },
      "source": [
        "<h1>Googleドライブのマウント</h1>"
      ]
    },
    {
      "cell_type": "code",
      "metadata": {
        "id": "NAN7zFR24yK1",
        "colab": {
          "base_uri": "https://localhost:8080/"
        },
        "outputId": "aed74011-d7ea-43f2-9456-3209e101f4e3"
      },
      "source": [
        "from google.colab import drive\n",
        "drive.mount('/content/drive')"
      ],
      "execution_count": 1,
      "outputs": [
        {
          "output_type": "stream",
          "text": [
            "Drive already mounted at /content/drive; to attempt to forcibly remount, call drive.mount(\"/content/drive\", force_remount=True).\n"
          ],
          "name": "stdout"
        }
      ]
    },
    {
      "cell_type": "markdown",
      "metadata": {
        "id": "LQoHN3tWH8D_"
      },
      "source": [
        "<h1>0. データ表示</h1>"
      ]
    },
    {
      "cell_type": "code",
      "metadata": {
        "id": "7gm01W8cH8EA"
      },
      "source": [
        "#from モジュール名 import クラス名（もしくは関数名や変数名）\n",
        "import pandas as pd\n",
        "from pandas import DataFrame\n",
        "import numpy as np\n",
        "import matplotlib.pyplot as plt\n",
        "import seaborn as sns\n",
        "\n",
        "#matplotlibをinlineで表示するためのおまじない (plt.show()しなくていい)\n",
        "%matplotlib inline"
      ],
      "execution_count": 2,
      "outputs": []
    },
    {
      "cell_type": "markdown",
      "metadata": {
        "id": "MI-4kkzzNW2d"
      },
      "source": [
        "以下では，Googleドライブのマイドライブ直下にstudy_ai_mlフォルダを置くことを仮定しています．必要に応じて，パスを変更してください。"
      ]
    },
    {
      "cell_type": "code",
      "metadata": {
        "id": "9gvc7iMBH8EC"
      },
      "source": [
        "# titanic data csvファイルの読み込み\n",
        "titanic_df = pd.read_csv('/content/drive/My Drive/study_ai_ml/data/titanic_train.csv')"
      ],
      "execution_count": 3,
      "outputs": []
    },
    {
      "cell_type": "code",
      "metadata": {
        "scrolled": false,
        "id": "z9Rn2YL4H8EE",
        "colab": {
          "base_uri": "https://localhost:8080/",
          "height": 495
        },
        "outputId": "f2583e1d-670b-4588-9fcb-20d1f5ebc563"
      },
      "source": [
        "# ファイルの先頭部を表示し、データセットを確認する\n",
        "titanic_df.head(5)"
      ],
      "execution_count": 4,
      "outputs": [
        {
          "output_type": "execute_result",
          "data": {
            "text/html": [
              "<div>\n",
              "<style scoped>\n",
              "    .dataframe tbody tr th:only-of-type {\n",
              "        vertical-align: middle;\n",
              "    }\n",
              "\n",
              "    .dataframe tbody tr th {\n",
              "        vertical-align: top;\n",
              "    }\n",
              "\n",
              "    .dataframe thead th {\n",
              "        text-align: right;\n",
              "    }\n",
              "</style>\n",
              "<table border=\"1\" class=\"dataframe\">\n",
              "  <thead>\n",
              "    <tr style=\"text-align: right;\">\n",
              "      <th></th>\n",
              "      <th>PassengerId</th>\n",
              "      <th>Survived</th>\n",
              "      <th>Pclass</th>\n",
              "      <th>Name</th>\n",
              "      <th>Sex</th>\n",
              "      <th>Age</th>\n",
              "      <th>SibSp</th>\n",
              "      <th>Parch</th>\n",
              "      <th>Ticket</th>\n",
              "      <th>Fare</th>\n",
              "      <th>Cabin</th>\n",
              "      <th>Embarked</th>\n",
              "    </tr>\n",
              "  </thead>\n",
              "  <tbody>\n",
              "    <tr>\n",
              "      <th>0</th>\n",
              "      <td>1</td>\n",
              "      <td>0</td>\n",
              "      <td>3</td>\n",
              "      <td>Braund, Mr. Owen Harris</td>\n",
              "      <td>male</td>\n",
              "      <td>22.0</td>\n",
              "      <td>1</td>\n",
              "      <td>0</td>\n",
              "      <td>A/5 21171</td>\n",
              "      <td>7.2500</td>\n",
              "      <td>NaN</td>\n",
              "      <td>S</td>\n",
              "    </tr>\n",
              "    <tr>\n",
              "      <th>1</th>\n",
              "      <td>2</td>\n",
              "      <td>1</td>\n",
              "      <td>1</td>\n",
              "      <td>Cumings, Mrs. John Bradley (Florence Briggs Th...</td>\n",
              "      <td>female</td>\n",
              "      <td>38.0</td>\n",
              "      <td>1</td>\n",
              "      <td>0</td>\n",
              "      <td>PC 17599</td>\n",
              "      <td>71.2833</td>\n",
              "      <td>C85</td>\n",
              "      <td>C</td>\n",
              "    </tr>\n",
              "    <tr>\n",
              "      <th>2</th>\n",
              "      <td>3</td>\n",
              "      <td>1</td>\n",
              "      <td>3</td>\n",
              "      <td>Heikkinen, Miss. Laina</td>\n",
              "      <td>female</td>\n",
              "      <td>26.0</td>\n",
              "      <td>0</td>\n",
              "      <td>0</td>\n",
              "      <td>STON/O2. 3101282</td>\n",
              "      <td>7.9250</td>\n",
              "      <td>NaN</td>\n",
              "      <td>S</td>\n",
              "    </tr>\n",
              "    <tr>\n",
              "      <th>3</th>\n",
              "      <td>4</td>\n",
              "      <td>1</td>\n",
              "      <td>1</td>\n",
              "      <td>Futrelle, Mrs. Jacques Heath (Lily May Peel)</td>\n",
              "      <td>female</td>\n",
              "      <td>35.0</td>\n",
              "      <td>1</td>\n",
              "      <td>0</td>\n",
              "      <td>113803</td>\n",
              "      <td>53.1000</td>\n",
              "      <td>C123</td>\n",
              "      <td>S</td>\n",
              "    </tr>\n",
              "    <tr>\n",
              "      <th>4</th>\n",
              "      <td>5</td>\n",
              "      <td>0</td>\n",
              "      <td>3</td>\n",
              "      <td>Allen, Mr. William Henry</td>\n",
              "      <td>male</td>\n",
              "      <td>35.0</td>\n",
              "      <td>0</td>\n",
              "      <td>0</td>\n",
              "      <td>373450</td>\n",
              "      <td>8.0500</td>\n",
              "      <td>NaN</td>\n",
              "      <td>S</td>\n",
              "    </tr>\n",
              "  </tbody>\n",
              "</table>\n",
              "</div>"
            ],
            "text/plain": [
              "   PassengerId  Survived  Pclass  ...     Fare Cabin  Embarked\n",
              "0            1         0       3  ...   7.2500   NaN         S\n",
              "1            2         1       1  ...  71.2833   C85         C\n",
              "2            3         1       3  ...   7.9250   NaN         S\n",
              "3            4         1       1  ...  53.1000  C123         S\n",
              "4            5         0       3  ...   8.0500   NaN         S\n",
              "\n",
              "[5 rows x 12 columns]"
            ]
          },
          "metadata": {
            "tags": []
          },
          "execution_count": 4
        }
      ]
    },
    {
      "cell_type": "markdown",
      "metadata": {
        "collapsed": true,
        "id": "lJRAxM_HH8EH"
      },
      "source": [
        "<h1>1. ロジスティック回帰</h1>\n",
        "<h3>不要なデータの削除・欠損値の補完</h3>"
      ]
    },
    {
      "cell_type": "code",
      "metadata": {
        "id": "MVjSNdK9H8EH",
        "colab": {
          "base_uri": "https://localhost:8080/",
          "height": 198
        },
        "outputId": "ffaab791-61cb-47be-cc7e-f3878f5a235f"
      },
      "source": [
        "#予測に不要と考えるからうをドロップ (本当はここの情報もしっかり使うべきだと思っています)\n",
        "titanic_df.drop(['PassengerId', 'Name', 'Ticket', 'Cabin'], axis=1, inplace=True)\n",
        "\n",
        "#一部カラムをドロップしたデータを表示\n",
        "titanic_df.head()"
      ],
      "execution_count": 5,
      "outputs": [
        {
          "output_type": "execute_result",
          "data": {
            "text/html": [
              "<div>\n",
              "<style scoped>\n",
              "    .dataframe tbody tr th:only-of-type {\n",
              "        vertical-align: middle;\n",
              "    }\n",
              "\n",
              "    .dataframe tbody tr th {\n",
              "        vertical-align: top;\n",
              "    }\n",
              "\n",
              "    .dataframe thead th {\n",
              "        text-align: right;\n",
              "    }\n",
              "</style>\n",
              "<table border=\"1\" class=\"dataframe\">\n",
              "  <thead>\n",
              "    <tr style=\"text-align: right;\">\n",
              "      <th></th>\n",
              "      <th>Survived</th>\n",
              "      <th>Pclass</th>\n",
              "      <th>Sex</th>\n",
              "      <th>Age</th>\n",
              "      <th>SibSp</th>\n",
              "      <th>Parch</th>\n",
              "      <th>Fare</th>\n",
              "      <th>Embarked</th>\n",
              "    </tr>\n",
              "  </thead>\n",
              "  <tbody>\n",
              "    <tr>\n",
              "      <th>0</th>\n",
              "      <td>0</td>\n",
              "      <td>3</td>\n",
              "      <td>male</td>\n",
              "      <td>22.0</td>\n",
              "      <td>1</td>\n",
              "      <td>0</td>\n",
              "      <td>7.2500</td>\n",
              "      <td>S</td>\n",
              "    </tr>\n",
              "    <tr>\n",
              "      <th>1</th>\n",
              "      <td>1</td>\n",
              "      <td>1</td>\n",
              "      <td>female</td>\n",
              "      <td>38.0</td>\n",
              "      <td>1</td>\n",
              "      <td>0</td>\n",
              "      <td>71.2833</td>\n",
              "      <td>C</td>\n",
              "    </tr>\n",
              "    <tr>\n",
              "      <th>2</th>\n",
              "      <td>1</td>\n",
              "      <td>3</td>\n",
              "      <td>female</td>\n",
              "      <td>26.0</td>\n",
              "      <td>0</td>\n",
              "      <td>0</td>\n",
              "      <td>7.9250</td>\n",
              "      <td>S</td>\n",
              "    </tr>\n",
              "    <tr>\n",
              "      <th>3</th>\n",
              "      <td>1</td>\n",
              "      <td>1</td>\n",
              "      <td>female</td>\n",
              "      <td>35.0</td>\n",
              "      <td>1</td>\n",
              "      <td>0</td>\n",
              "      <td>53.1000</td>\n",
              "      <td>S</td>\n",
              "    </tr>\n",
              "    <tr>\n",
              "      <th>4</th>\n",
              "      <td>0</td>\n",
              "      <td>3</td>\n",
              "      <td>male</td>\n",
              "      <td>35.0</td>\n",
              "      <td>0</td>\n",
              "      <td>0</td>\n",
              "      <td>8.0500</td>\n",
              "      <td>S</td>\n",
              "    </tr>\n",
              "  </tbody>\n",
              "</table>\n",
              "</div>"
            ],
            "text/plain": [
              "   Survived  Pclass     Sex   Age  SibSp  Parch     Fare Embarked\n",
              "0         0       3    male  22.0      1      0   7.2500        S\n",
              "1         1       1  female  38.0      1      0  71.2833        C\n",
              "2         1       3  female  26.0      0      0   7.9250        S\n",
              "3         1       1  female  35.0      1      0  53.1000        S\n",
              "4         0       3    male  35.0      0      0   8.0500        S"
            ]
          },
          "metadata": {
            "tags": []
          },
          "execution_count": 5
        }
      ]
    },
    {
      "cell_type": "code",
      "metadata": {
        "id": "cYz4a6feH8EJ",
        "colab": {
          "base_uri": "https://localhost:8080/",
          "height": 348
        },
        "outputId": "b3731815-5f95-43db-acec-dd462b9fb959"
      },
      "source": [
        "#nullを含んでいる行を表示\n",
        "titanic_df[titanic_df.isnull().any(1)].head(10)"
      ],
      "execution_count": 6,
      "outputs": [
        {
          "output_type": "execute_result",
          "data": {
            "text/html": [
              "<div>\n",
              "<style scoped>\n",
              "    .dataframe tbody tr th:only-of-type {\n",
              "        vertical-align: middle;\n",
              "    }\n",
              "\n",
              "    .dataframe tbody tr th {\n",
              "        vertical-align: top;\n",
              "    }\n",
              "\n",
              "    .dataframe thead th {\n",
              "        text-align: right;\n",
              "    }\n",
              "</style>\n",
              "<table border=\"1\" class=\"dataframe\">\n",
              "  <thead>\n",
              "    <tr style=\"text-align: right;\">\n",
              "      <th></th>\n",
              "      <th>Survived</th>\n",
              "      <th>Pclass</th>\n",
              "      <th>Sex</th>\n",
              "      <th>Age</th>\n",
              "      <th>SibSp</th>\n",
              "      <th>Parch</th>\n",
              "      <th>Fare</th>\n",
              "      <th>Embarked</th>\n",
              "    </tr>\n",
              "  </thead>\n",
              "  <tbody>\n",
              "    <tr>\n",
              "      <th>5</th>\n",
              "      <td>0</td>\n",
              "      <td>3</td>\n",
              "      <td>male</td>\n",
              "      <td>NaN</td>\n",
              "      <td>0</td>\n",
              "      <td>0</td>\n",
              "      <td>8.4583</td>\n",
              "      <td>Q</td>\n",
              "    </tr>\n",
              "    <tr>\n",
              "      <th>17</th>\n",
              "      <td>1</td>\n",
              "      <td>2</td>\n",
              "      <td>male</td>\n",
              "      <td>NaN</td>\n",
              "      <td>0</td>\n",
              "      <td>0</td>\n",
              "      <td>13.0000</td>\n",
              "      <td>S</td>\n",
              "    </tr>\n",
              "    <tr>\n",
              "      <th>19</th>\n",
              "      <td>1</td>\n",
              "      <td>3</td>\n",
              "      <td>female</td>\n",
              "      <td>NaN</td>\n",
              "      <td>0</td>\n",
              "      <td>0</td>\n",
              "      <td>7.2250</td>\n",
              "      <td>C</td>\n",
              "    </tr>\n",
              "    <tr>\n",
              "      <th>26</th>\n",
              "      <td>0</td>\n",
              "      <td>3</td>\n",
              "      <td>male</td>\n",
              "      <td>NaN</td>\n",
              "      <td>0</td>\n",
              "      <td>0</td>\n",
              "      <td>7.2250</td>\n",
              "      <td>C</td>\n",
              "    </tr>\n",
              "    <tr>\n",
              "      <th>28</th>\n",
              "      <td>1</td>\n",
              "      <td>3</td>\n",
              "      <td>female</td>\n",
              "      <td>NaN</td>\n",
              "      <td>0</td>\n",
              "      <td>0</td>\n",
              "      <td>7.8792</td>\n",
              "      <td>Q</td>\n",
              "    </tr>\n",
              "    <tr>\n",
              "      <th>29</th>\n",
              "      <td>0</td>\n",
              "      <td>3</td>\n",
              "      <td>male</td>\n",
              "      <td>NaN</td>\n",
              "      <td>0</td>\n",
              "      <td>0</td>\n",
              "      <td>7.8958</td>\n",
              "      <td>S</td>\n",
              "    </tr>\n",
              "    <tr>\n",
              "      <th>31</th>\n",
              "      <td>1</td>\n",
              "      <td>1</td>\n",
              "      <td>female</td>\n",
              "      <td>NaN</td>\n",
              "      <td>1</td>\n",
              "      <td>0</td>\n",
              "      <td>146.5208</td>\n",
              "      <td>C</td>\n",
              "    </tr>\n",
              "    <tr>\n",
              "      <th>32</th>\n",
              "      <td>1</td>\n",
              "      <td>3</td>\n",
              "      <td>female</td>\n",
              "      <td>NaN</td>\n",
              "      <td>0</td>\n",
              "      <td>0</td>\n",
              "      <td>7.7500</td>\n",
              "      <td>Q</td>\n",
              "    </tr>\n",
              "    <tr>\n",
              "      <th>36</th>\n",
              "      <td>1</td>\n",
              "      <td>3</td>\n",
              "      <td>male</td>\n",
              "      <td>NaN</td>\n",
              "      <td>0</td>\n",
              "      <td>0</td>\n",
              "      <td>7.2292</td>\n",
              "      <td>C</td>\n",
              "    </tr>\n",
              "    <tr>\n",
              "      <th>42</th>\n",
              "      <td>0</td>\n",
              "      <td>3</td>\n",
              "      <td>male</td>\n",
              "      <td>NaN</td>\n",
              "      <td>0</td>\n",
              "      <td>0</td>\n",
              "      <td>7.8958</td>\n",
              "      <td>C</td>\n",
              "    </tr>\n",
              "  </tbody>\n",
              "</table>\n",
              "</div>"
            ],
            "text/plain": [
              "    Survived  Pclass     Sex  Age  SibSp  Parch      Fare Embarked\n",
              "5          0       3    male  NaN      0      0    8.4583        Q\n",
              "17         1       2    male  NaN      0      0   13.0000        S\n",
              "19         1       3  female  NaN      0      0    7.2250        C\n",
              "26         0       3    male  NaN      0      0    7.2250        C\n",
              "28         1       3  female  NaN      0      0    7.8792        Q\n",
              "29         0       3    male  NaN      0      0    7.8958        S\n",
              "31         1       1  female  NaN      1      0  146.5208        C\n",
              "32         1       3  female  NaN      0      0    7.7500        Q\n",
              "36         1       3    male  NaN      0      0    7.2292        C\n",
              "42         0       3    male  NaN      0      0    7.8958        C"
            ]
          },
          "metadata": {
            "tags": []
          },
          "execution_count": 6
        }
      ]
    },
    {
      "cell_type": "code",
      "metadata": {
        "id": "_WeR6NdwH8EL",
        "colab": {
          "base_uri": "https://localhost:8080/",
          "height": 407
        },
        "outputId": "9bad95dd-a397-4cdb-d621-de59ab73a2d5"
      },
      "source": [
        "#Ageカラムのnullを中央値で補完\n",
        "\n",
        "titanic_df['AgeFill'] = titanic_df['Age'].fillna(titanic_df['Age'].mean())\n",
        "\n",
        "#再度nullを含んでいる行を表示 (Ageのnullは補完されている)\n",
        "titanic_df[titanic_df.isnull().any(1)]\n",
        "\n",
        "#titanic_df.dtypes"
      ],
      "execution_count": 7,
      "outputs": [
        {
          "output_type": "execute_result",
          "data": {
            "text/html": [
              "<div>\n",
              "<style scoped>\n",
              "    .dataframe tbody tr th:only-of-type {\n",
              "        vertical-align: middle;\n",
              "    }\n",
              "\n",
              "    .dataframe tbody tr th {\n",
              "        vertical-align: top;\n",
              "    }\n",
              "\n",
              "    .dataframe thead th {\n",
              "        text-align: right;\n",
              "    }\n",
              "</style>\n",
              "<table border=\"1\" class=\"dataframe\">\n",
              "  <thead>\n",
              "    <tr style=\"text-align: right;\">\n",
              "      <th></th>\n",
              "      <th>Survived</th>\n",
              "      <th>Pclass</th>\n",
              "      <th>Sex</th>\n",
              "      <th>Age</th>\n",
              "      <th>SibSp</th>\n",
              "      <th>Parch</th>\n",
              "      <th>Fare</th>\n",
              "      <th>Embarked</th>\n",
              "      <th>AgeFill</th>\n",
              "    </tr>\n",
              "  </thead>\n",
              "  <tbody>\n",
              "    <tr>\n",
              "      <th>5</th>\n",
              "      <td>0</td>\n",
              "      <td>3</td>\n",
              "      <td>male</td>\n",
              "      <td>NaN</td>\n",
              "      <td>0</td>\n",
              "      <td>0</td>\n",
              "      <td>8.4583</td>\n",
              "      <td>Q</td>\n",
              "      <td>29.699118</td>\n",
              "    </tr>\n",
              "    <tr>\n",
              "      <th>17</th>\n",
              "      <td>1</td>\n",
              "      <td>2</td>\n",
              "      <td>male</td>\n",
              "      <td>NaN</td>\n",
              "      <td>0</td>\n",
              "      <td>0</td>\n",
              "      <td>13.0000</td>\n",
              "      <td>S</td>\n",
              "      <td>29.699118</td>\n",
              "    </tr>\n",
              "    <tr>\n",
              "      <th>19</th>\n",
              "      <td>1</td>\n",
              "      <td>3</td>\n",
              "      <td>female</td>\n",
              "      <td>NaN</td>\n",
              "      <td>0</td>\n",
              "      <td>0</td>\n",
              "      <td>7.2250</td>\n",
              "      <td>C</td>\n",
              "      <td>29.699118</td>\n",
              "    </tr>\n",
              "    <tr>\n",
              "      <th>26</th>\n",
              "      <td>0</td>\n",
              "      <td>3</td>\n",
              "      <td>male</td>\n",
              "      <td>NaN</td>\n",
              "      <td>0</td>\n",
              "      <td>0</td>\n",
              "      <td>7.2250</td>\n",
              "      <td>C</td>\n",
              "      <td>29.699118</td>\n",
              "    </tr>\n",
              "    <tr>\n",
              "      <th>28</th>\n",
              "      <td>1</td>\n",
              "      <td>3</td>\n",
              "      <td>female</td>\n",
              "      <td>NaN</td>\n",
              "      <td>0</td>\n",
              "      <td>0</td>\n",
              "      <td>7.8792</td>\n",
              "      <td>Q</td>\n",
              "      <td>29.699118</td>\n",
              "    </tr>\n",
              "    <tr>\n",
              "      <th>...</th>\n",
              "      <td>...</td>\n",
              "      <td>...</td>\n",
              "      <td>...</td>\n",
              "      <td>...</td>\n",
              "      <td>...</td>\n",
              "      <td>...</td>\n",
              "      <td>...</td>\n",
              "      <td>...</td>\n",
              "      <td>...</td>\n",
              "    </tr>\n",
              "    <tr>\n",
              "      <th>859</th>\n",
              "      <td>0</td>\n",
              "      <td>3</td>\n",
              "      <td>male</td>\n",
              "      <td>NaN</td>\n",
              "      <td>0</td>\n",
              "      <td>0</td>\n",
              "      <td>7.2292</td>\n",
              "      <td>C</td>\n",
              "      <td>29.699118</td>\n",
              "    </tr>\n",
              "    <tr>\n",
              "      <th>863</th>\n",
              "      <td>0</td>\n",
              "      <td>3</td>\n",
              "      <td>female</td>\n",
              "      <td>NaN</td>\n",
              "      <td>8</td>\n",
              "      <td>2</td>\n",
              "      <td>69.5500</td>\n",
              "      <td>S</td>\n",
              "      <td>29.699118</td>\n",
              "    </tr>\n",
              "    <tr>\n",
              "      <th>868</th>\n",
              "      <td>0</td>\n",
              "      <td>3</td>\n",
              "      <td>male</td>\n",
              "      <td>NaN</td>\n",
              "      <td>0</td>\n",
              "      <td>0</td>\n",
              "      <td>9.5000</td>\n",
              "      <td>S</td>\n",
              "      <td>29.699118</td>\n",
              "    </tr>\n",
              "    <tr>\n",
              "      <th>878</th>\n",
              "      <td>0</td>\n",
              "      <td>3</td>\n",
              "      <td>male</td>\n",
              "      <td>NaN</td>\n",
              "      <td>0</td>\n",
              "      <td>0</td>\n",
              "      <td>7.8958</td>\n",
              "      <td>S</td>\n",
              "      <td>29.699118</td>\n",
              "    </tr>\n",
              "    <tr>\n",
              "      <th>888</th>\n",
              "      <td>0</td>\n",
              "      <td>3</td>\n",
              "      <td>female</td>\n",
              "      <td>NaN</td>\n",
              "      <td>1</td>\n",
              "      <td>2</td>\n",
              "      <td>23.4500</td>\n",
              "      <td>S</td>\n",
              "      <td>29.699118</td>\n",
              "    </tr>\n",
              "  </tbody>\n",
              "</table>\n",
              "<p>179 rows × 9 columns</p>\n",
              "</div>"
            ],
            "text/plain": [
              "     Survived  Pclass     Sex  Age  SibSp  Parch     Fare Embarked    AgeFill\n",
              "5           0       3    male  NaN      0      0   8.4583        Q  29.699118\n",
              "17          1       2    male  NaN      0      0  13.0000        S  29.699118\n",
              "19          1       3  female  NaN      0      0   7.2250        C  29.699118\n",
              "26          0       3    male  NaN      0      0   7.2250        C  29.699118\n",
              "28          1       3  female  NaN      0      0   7.8792        Q  29.699118\n",
              "..        ...     ...     ...  ...    ...    ...      ...      ...        ...\n",
              "859         0       3    male  NaN      0      0   7.2292        C  29.699118\n",
              "863         0       3  female  NaN      8      2  69.5500        S  29.699118\n",
              "868         0       3    male  NaN      0      0   9.5000        S  29.699118\n",
              "878         0       3    male  NaN      0      0   7.8958        S  29.699118\n",
              "888         0       3  female  NaN      1      2  23.4500        S  29.699118\n",
              "\n",
              "[179 rows x 9 columns]"
            ]
          },
          "metadata": {
            "tags": []
          },
          "execution_count": 7
        }
      ]
    },
    {
      "cell_type": "markdown",
      "metadata": {
        "collapsed": true,
        "id": "OZkvdBtpH8EN"
      },
      "source": [
        "# <h1>1-1. ロジスティック回帰</h1>\n",
        "\n",
        "<h3>実装(チケット価格から生死を判別)</h3>"
      ]
    },
    {
      "cell_type": "code",
      "metadata": {
        "id": "cxLH-B3kH8EO"
      },
      "source": [
        "#運賃だけのリストを作成\n",
        "data1 = titanic_df.loc[:, [\"Fare\"]].values"
      ],
      "execution_count": 8,
      "outputs": []
    },
    {
      "cell_type": "code",
      "metadata": {
        "id": "Vs8bCtyZH8EP"
      },
      "source": [
        "#生死フラグのみのリストを作成\n",
        "label1 =  titanic_df.loc[:,[\"Survived\"]].values"
      ],
      "execution_count": 9,
      "outputs": []
    },
    {
      "cell_type": "code",
      "metadata": {
        "id": "KlJ8cSNOH8ER"
      },
      "source": [
        "from sklearn.linear_model import LogisticRegression"
      ],
      "execution_count": 10,
      "outputs": []
    },
    {
      "cell_type": "code",
      "metadata": {
        "id": "A8nKjcGUH8ES"
      },
      "source": [
        "model=LogisticRegression()"
      ],
      "execution_count": 11,
      "outputs": []
    },
    {
      "cell_type": "markdown",
      "metadata": {
        "id": "C-EeutLg2FB_"
      },
      "source": [
        "## ロジスティック回帰の学習\n",
        "* C : 小さな値程、強い正則化を指定する\n",
        "* penalty : L2正則化\n",
        " "
      ]
    },
    {
      "cell_type": "code",
      "metadata": {
        "id": "N-txbsoRH8EU",
        "colab": {
          "base_uri": "https://localhost:8080/"
        },
        "outputId": "88b6ff1d-1100-4b37-a03f-6a35ef4f9ea1"
      },
      "source": [
        "model.fit(data1, label1.ravel())"
      ],
      "execution_count": 12,
      "outputs": [
        {
          "output_type": "execute_result",
          "data": {
            "text/plain": [
              "LogisticRegression(C=1.0, class_weight=None, dual=False, fit_intercept=True,\n",
              "                   intercept_scaling=1, l1_ratio=None, max_iter=100,\n",
              "                   multi_class='auto', n_jobs=None, penalty='l2',\n",
              "                   random_state=None, solver='lbfgs', tol=0.0001, verbose=0,\n",
              "                   warm_start=False)"
            ]
          },
          "metadata": {
            "tags": []
          },
          "execution_count": 12
        }
      ]
    },
    {
      "cell_type": "markdown",
      "metadata": {
        "id": "-Z82FZ0M50gn"
      },
      "source": [
        "運賃が61ドルの人は生き残ったかどうか？亡くなったようである。"
      ]
    },
    {
      "cell_type": "code",
      "metadata": {
        "id": "HfTRWJRNH8EY",
        "colab": {
          "base_uri": "https://localhost:8080/"
        },
        "outputId": "7aaa5c19-79fb-4da1-dd5b-de4702090708"
      },
      "source": [
        "model.predict([[61]])"
      ],
      "execution_count": 13,
      "outputs": [
        {
          "output_type": "execute_result",
          "data": {
            "text/plain": [
              "array([0])"
            ]
          },
          "metadata": {
            "tags": []
          },
          "execution_count": 13
        }
      ]
    },
    {
      "cell_type": "markdown",
      "metadata": {
        "id": "qdusA-SX6MYA"
      },
      "source": [
        "運賃が62ドルの人は生き残れたようだ。"
      ]
    },
    {
      "cell_type": "code",
      "metadata": {
        "colab": {
          "base_uri": "https://localhost:8080/"
        },
        "id": "VSZY_Xei6IIf",
        "outputId": "01aa3257-7d88-4eb5-e96a-2e1c5bf16b88"
      },
      "source": [
        "model.predict([[62]])"
      ],
      "execution_count": 14,
      "outputs": [
        {
          "output_type": "execute_result",
          "data": {
            "text/plain": [
              "array([1])"
            ]
          },
          "metadata": {
            "tags": []
          },
          "execution_count": 14
        }
      ]
    },
    {
      "cell_type": "markdown",
      "metadata": {
        "id": "UWxk-n8p6ifh"
      },
      "source": [
        "fitメソッドが実行されたバックエンドで何が行われたかを思い起こす必要がある。"
      ]
    },
    {
      "cell_type": "markdown",
      "metadata": {
        "id": "wE1ZSGXR7_ud"
      },
      "source": [
        "運賃が1ドルの人はかなり高い確率で亡くなる事が分かる。"
      ]
    },
    {
      "cell_type": "code",
      "metadata": {
        "colab": {
          "base_uri": "https://localhost:8080/"
        },
        "id": "fcTgOmCt7iZt",
        "outputId": "2b55cc5e-defc-43d4-ce67-48011dcf0a04"
      },
      "source": [
        "model.predict_proba([[1]])"
      ],
      "execution_count": 15,
      "outputs": [
        {
          "output_type": "execute_result",
          "data": {
            "text/plain": [
              "array([[0.71628772, 0.28371228]])"
            ]
          },
          "metadata": {
            "tags": []
          },
          "execution_count": 15
        }
      ]
    },
    {
      "cell_type": "markdown",
      "metadata": {
        "id": "RIZ-WWrv7wbL"
      },
      "source": [
        "運賃が61ドルの人はほとんど生き残る側に近い確率で亡くなくなっている。\n"
      ]
    },
    {
      "cell_type": "code",
      "metadata": {
        "colab": {
          "base_uri": "https://localhost:8080/"
        },
        "id": "e9rDE_0i7oo2",
        "outputId": "e35dd44e-4c09-4ddc-8968-2d4960d92fb6"
      },
      "source": [
        "model.predict_proba([[61]])"
      ],
      "execution_count": 16,
      "outputs": [
        {
          "output_type": "execute_result",
          "data": {
            "text/plain": [
              "array([[0.50358033, 0.49641967]])"
            ]
          },
          "metadata": {
            "tags": []
          },
          "execution_count": 16
        }
      ]
    },
    {
      "cell_type": "code",
      "metadata": {
        "id": "uJzT5a8yH8Ea",
        "colab": {
          "base_uri": "https://localhost:8080/"
        },
        "outputId": "0a9dd067-fe39-4adf-df5d-afcaa04570e3"
      },
      "source": [
        "model.predict_proba([[62]])"
      ],
      "execution_count": 17,
      "outputs": [
        {
          "output_type": "execute_result",
          "data": {
            "text/plain": [
              "array([[0.49978123, 0.50021877]])"
            ]
          },
          "metadata": {
            "tags": []
          },
          "execution_count": 17
        }
      ]
    },
    {
      "cell_type": "code",
      "metadata": {
        "id": "JpEECbg1H8Ec"
      },
      "source": [
        "X_test_value = model.decision_function(data1) "
      ],
      "execution_count": 18,
      "outputs": []
    },
    {
      "cell_type": "code",
      "metadata": {
        "id": "jHDhkqXZH8Eh"
      },
      "source": [
        "# # 決定関数値（絶対値が大きいほど識別境界から離れている）\n",
        "# X_test_value = model.decision_function(X_test) \n",
        "# # 決定関数値をシグモイド関数で確率に変換\n",
        "# X_test_prob = normal_sigmoid(X_test_value) "
      ],
      "execution_count": 19,
      "outputs": []
    },
    {
      "cell_type": "markdown",
      "metadata": {
        "id": "Ez-v9BuO9kBg"
      },
      "source": [
        "$p$が得られていると言う事は$w$が求まっていると言う事を意味する。"
      ]
    },
    {
      "cell_type": "code",
      "metadata": {
        "id": "qB4ahI8OH8Ej",
        "colab": {
          "base_uri": "https://localhost:8080/"
        },
        "outputId": "fe97ef63-3028-4d05-9cdf-2c4f5bd08563"
      },
      "source": [
        "print (model.intercept_)\n",
        "\n",
        "print (model.coef_)"
      ],
      "execution_count": 20,
      "outputs": [
        {
          "output_type": "stream",
          "text": [
            "[-0.94131796]\n",
            "[[0.01519666]]\n"
          ],
          "name": "stdout"
        }
      ]
    },
    {
      "cell_type": "code",
      "metadata": {
        "id": "vhBbCmC7H8El",
        "colab": {
          "base_uri": "https://localhost:8080/",
          "height": 338
        },
        "outputId": "638b81a0-8b79-4ebb-f211-4b58245a0f23"
      },
      "source": [
        "w_0 = model.intercept_[0]\n",
        "w_1 = model.coef_[0,0]\n",
        "\n",
        "# def normal_sigmoid(x):\n",
        "#     return 1 / (1+np.exp(-x))\n",
        "\n",
        "def sigmoid(x):\n",
        "    return 1 / (1+np.exp(-(w_1*x+w_0)))\n",
        "\n",
        "x_range = np.linspace(-1, 500, 3000)\n",
        "\n",
        "plt.figure(figsize=(9,5))\n",
        "#plt.xkcd()\n",
        "#plt.legend(loc=2)\n",
        "\n",
        "\n",
        "# plt.ylim(-0.1, 1.1)\n",
        "# plt.xlim(-10, 10)\n",
        "\n",
        "# plt.plot([-10,10],[0,0], \"k\", lw=1)\n",
        "# plt.plot([0,0],[-1,1.5], \"k\", lw=1)\n",
        "plt.plot(data1,np.zeros(len(data1)), 'o')\n",
        "plt.plot(data1, model.predict_proba(data1), 'o')\n",
        "plt.plot(x_range, sigmoid(x_range), '-', label='Logistic Regression')\n",
        "#plt.plot(x_range, normal_sigmoid(x_range), '-')\n",
        "#\n",
        "plt.legend(loc=2)\n",
        "\n"
      ],
      "execution_count": 21,
      "outputs": [
        {
          "output_type": "execute_result",
          "data": {
            "text/plain": [
              "<matplotlib.legend.Legend at 0x7fe7a6f712d0>"
            ]
          },
          "metadata": {
            "tags": []
          },
          "execution_count": 21
        },
        {
          "output_type": "display_data",
          "data": {
            "image/png": "[encoded data removed]",
            "text/plain": [
              "<Figure size 648x360 with 1 Axes>"
            ]
          },
          "metadata": {
            "tags": [],
            "needs_background": "light"
          }
        }
      ]
    },
    {
      "cell_type": "markdown",
      "metadata": {
        "collapsed": true,
        "id": "yOaSk749H8En"
      },
      "source": [
        "#<h1>1-2. ロジスティック回帰</h1>\n",
        "<h3>実装(2変数から生死を判別)</h3>"
      ]
    },
    {
      "cell_type": "markdown",
      "metadata": {
        "id": "w8e1Lw3QBHn_"
      },
      "source": [
        "## 新しい特徴量の作成\n",
        "* 今あるデータから新しい特徴量を作り、その特徴量を使用してロジスティック回帰を試みる。  \n",
        "* 以下のような仮説を立てる事ができる。  \n",
        " - 100年前のイギリスは、今にも増して階級社会であった事から、階級が高い人の方が生存確率が高かったのではないか。\n",
        " - レディーファーストの精神があり、女性の方が生存確率が高いのではないか。\n",
        "* そのような仮説を検証したい時に、どのように特徴量に落とし込んでいけばよいのかを以下で見ていく事になる。\n",
        "\n",
        "\n"
      ]
    },
    {
      "cell_type": "code",
      "metadata": {
        "id": "YMMcNCygH8Eo"
      },
      "source": [
        "#AgeFillの欠損値を埋めたので\n",
        "#titanic_df = titanic_df.drop(['Age'], axis=1)"
      ],
      "execution_count": 22,
      "outputs": []
    },
    {
      "cell_type": "markdown",
      "metadata": {
        "id": "Abtk9f5iGcCI"
      },
      "source": [
        "女性、男性をそれぞれ0と1に置き換え、'Gender'というフィールドに格納する。\n"
      ]
    },
    {
      "cell_type": "code",
      "metadata": {
        "id": "aksQRp5fH8Es"
      },
      "source": [
        "titanic_df['Gender'] = titanic_df['Sex'].map({'female': 0, 'male': 1}).astype(int)  "
      ],
      "execution_count": 23,
      "outputs": []
    },
    {
      "cell_type": "code",
      "metadata": {
        "id": "xUByTZo8H8Ev",
        "colab": {
          "base_uri": "https://localhost:8080/",
          "height": 138
        },
        "outputId": "227e722e-7b06-4dd9-a275-5effc004870a"
      },
      "source": [
        "titanic_df.head(3)"
      ],
      "execution_count": 24,
      "outputs": [
        {
          "output_type": "execute_result",
          "data": {
            "text/html": [
              "<div>\n",
              "<style scoped>\n",
              "    .dataframe tbody tr th:only-of-type {\n",
              "        vertical-align: middle;\n",
              "    }\n",
              "\n",
              "    .dataframe tbody tr th {\n",
              "        vertical-align: top;\n",
              "    }\n",
              "\n",
              "    .dataframe thead th {\n",
              "        text-align: right;\n",
              "    }\n",
              "</style>\n",
              "<table border=\"1\" class=\"dataframe\">\n",
              "  <thead>\n",
              "    <tr style=\"text-align: right;\">\n",
              "      <th></th>\n",
              "      <th>Survived</th>\n",
              "      <th>Pclass</th>\n",
              "      <th>Sex</th>\n",
              "      <th>Age</th>\n",
              "      <th>SibSp</th>\n",
              "      <th>Parch</th>\n",
              "      <th>Fare</th>\n",
              "      <th>Embarked</th>\n",
              "      <th>AgeFill</th>\n",
              "      <th>Gender</th>\n",
              "    </tr>\n",
              "  </thead>\n",
              "  <tbody>\n",
              "    <tr>\n",
              "      <th>0</th>\n",
              "      <td>0</td>\n",
              "      <td>3</td>\n",
              "      <td>male</td>\n",
              "      <td>22.0</td>\n",
              "      <td>1</td>\n",
              "      <td>0</td>\n",
              "      <td>7.2500</td>\n",
              "      <td>S</td>\n",
              "      <td>22.0</td>\n",
              "      <td>1</td>\n",
              "    </tr>\n",
              "    <tr>\n",
              "      <th>1</th>\n",
              "      <td>1</td>\n",
              "      <td>1</td>\n",
              "      <td>female</td>\n",
              "      <td>38.0</td>\n",
              "      <td>1</td>\n",
              "      <td>0</td>\n",
              "      <td>71.2833</td>\n",
              "      <td>C</td>\n",
              "      <td>38.0</td>\n",
              "      <td>0</td>\n",
              "    </tr>\n",
              "    <tr>\n",
              "      <th>2</th>\n",
              "      <td>1</td>\n",
              "      <td>3</td>\n",
              "      <td>female</td>\n",
              "      <td>26.0</td>\n",
              "      <td>0</td>\n",
              "      <td>0</td>\n",
              "      <td>7.9250</td>\n",
              "      <td>S</td>\n",
              "      <td>26.0</td>\n",
              "      <td>0</td>\n",
              "    </tr>\n",
              "  </tbody>\n",
              "</table>\n",
              "</div>"
            ],
            "text/plain": [
              "   Survived  Pclass     Sex   Age  ...     Fare  Embarked  AgeFill Gender\n",
              "0         0       3    male  22.0  ...   7.2500         S     22.0      1\n",
              "1         1       1  female  38.0  ...  71.2833         C     38.0      0\n",
              "2         1       3  female  26.0  ...   7.9250         S     26.0      0\n",
              "\n",
              "[3 rows x 10 columns]"
            ]
          },
          "metadata": {
            "tags": []
          },
          "execution_count": 24
        }
      ]
    },
    {
      "cell_type": "code",
      "metadata": {
        "id": "QIdQOARsH8Ew"
      },
      "source": [
        "titanic_df['Pclass_Gender'] = titanic_df['Pclass'] + titanic_df['Gender']"
      ],
      "execution_count": 25,
      "outputs": []
    },
    {
      "cell_type": "code",
      "metadata": {
        "id": "GEYUETjnH8Ey",
        "colab": {
          "base_uri": "https://localhost:8080/",
          "height": 198
        },
        "outputId": "5e1423d0-1bcb-4734-a569-08ab4f66f0b0"
      },
      "source": [
        "titanic_df.head()"
      ],
      "execution_count": 26,
      "outputs": [
        {
          "output_type": "execute_result",
          "data": {
            "text/html": [
              "<div>\n",
              "<style scoped>\n",
              "    .dataframe tbody tr th:only-of-type {\n",
              "        vertical-align: middle;\n",
              "    }\n",
              "\n",
              "    .dataframe tbody tr th {\n",
              "        vertical-align: top;\n",
              "    }\n",
              "\n",
              "    .dataframe thead th {\n",
              "        text-align: right;\n",
              "    }\n",
              "</style>\n",
              "<table border=\"1\" class=\"dataframe\">\n",
              "  <thead>\n",
              "    <tr style=\"text-align: right;\">\n",
              "      <th></th>\n",
              "      <th>Survived</th>\n",
              "      <th>Pclass</th>\n",
              "      <th>Sex</th>\n",
              "      <th>Age</th>\n",
              "      <th>SibSp</th>\n",
              "      <th>Parch</th>\n",
              "      <th>Fare</th>\n",
              "      <th>Embarked</th>\n",
              "      <th>AgeFill</th>\n",
              "      <th>Gender</th>\n",
              "      <th>Pclass_Gender</th>\n",
              "    </tr>\n",
              "  </thead>\n",
              "  <tbody>\n",
              "    <tr>\n",
              "      <th>0</th>\n",
              "      <td>0</td>\n",
              "      <td>3</td>\n",
              "      <td>male</td>\n",
              "      <td>22.0</td>\n",
              "      <td>1</td>\n",
              "      <td>0</td>\n",
              "      <td>7.2500</td>\n",
              "      <td>S</td>\n",
              "      <td>22.0</td>\n",
              "      <td>1</td>\n",
              "      <td>4</td>\n",
              "    </tr>\n",
              "    <tr>\n",
              "      <th>1</th>\n",
              "      <td>1</td>\n",
              "      <td>1</td>\n",
              "      <td>female</td>\n",
              "      <td>38.0</td>\n",
              "      <td>1</td>\n",
              "      <td>0</td>\n",
              "      <td>71.2833</td>\n",
              "      <td>C</td>\n",
              "      <td>38.0</td>\n",
              "      <td>0</td>\n",
              "      <td>1</td>\n",
              "    </tr>\n",
              "    <tr>\n",
              "      <th>2</th>\n",
              "      <td>1</td>\n",
              "      <td>3</td>\n",
              "      <td>female</td>\n",
              "      <td>26.0</td>\n",
              "      <td>0</td>\n",
              "      <td>0</td>\n",
              "      <td>7.9250</td>\n",
              "      <td>S</td>\n",
              "      <td>26.0</td>\n",
              "      <td>0</td>\n",
              "      <td>3</td>\n",
              "    </tr>\n",
              "    <tr>\n",
              "      <th>3</th>\n",
              "      <td>1</td>\n",
              "      <td>1</td>\n",
              "      <td>female</td>\n",
              "      <td>35.0</td>\n",
              "      <td>1</td>\n",
              "      <td>0</td>\n",
              "      <td>53.1000</td>\n",
              "      <td>S</td>\n",
              "      <td>35.0</td>\n",
              "      <td>0</td>\n",
              "      <td>1</td>\n",
              "    </tr>\n",
              "    <tr>\n",
              "      <th>4</th>\n",
              "      <td>0</td>\n",
              "      <td>3</td>\n",
              "      <td>male</td>\n",
              "      <td>35.0</td>\n",
              "      <td>0</td>\n",
              "      <td>0</td>\n",
              "      <td>8.0500</td>\n",
              "      <td>S</td>\n",
              "      <td>35.0</td>\n",
              "      <td>1</td>\n",
              "      <td>4</td>\n",
              "    </tr>\n",
              "  </tbody>\n",
              "</table>\n",
              "</div>"
            ],
            "text/plain": [
              "   Survived  Pclass     Sex   Age  ...  Embarked  AgeFill  Gender Pclass_Gender\n",
              "0         0       3    male  22.0  ...         S     22.0       1             4\n",
              "1         1       1  female  38.0  ...         C     38.0       0             1\n",
              "2         1       3  female  26.0  ...         S     26.0       0             3\n",
              "3         1       1  female  35.0  ...         S     35.0       0             1\n",
              "4         0       3    male  35.0  ...         S     35.0       1             4\n",
              "\n",
              "[5 rows x 11 columns]"
            ]
          },
          "metadata": {
            "tags": []
          },
          "execution_count": 26
        }
      ]
    },
    {
      "cell_type": "code",
      "metadata": {
        "id": "gRQGqLHHH8E0"
      },
      "source": [
        "titanic_df = titanic_df.drop(['Pclass', 'Sex', 'Gender','Age'], axis=1)"
      ],
      "execution_count": 27,
      "outputs": []
    },
    {
      "cell_type": "code",
      "metadata": {
        "id": "e1PalnyMH8E1",
        "colab": {
          "base_uri": "https://localhost:8080/",
          "height": 198
        },
        "outputId": "135039d5-4198-4d06-c0fe-bb8ec4cd5718"
      },
      "source": [
        "titanic_df.head()"
      ],
      "execution_count": 28,
      "outputs": [
        {
          "output_type": "execute_result",
          "data": {
            "text/html": [
              "<div>\n",
              "<style scoped>\n",
              "    .dataframe tbody tr th:only-of-type {\n",
              "        vertical-align: middle;\n",
              "    }\n",
              "\n",
              "    .dataframe tbody tr th {\n",
              "        vertical-align: top;\n",
              "    }\n",
              "\n",
              "    .dataframe thead th {\n",
              "        text-align: right;\n",
              "    }\n",
              "</style>\n",
              "<table border=\"1\" class=\"dataframe\">\n",
              "  <thead>\n",
              "    <tr style=\"text-align: right;\">\n",
              "      <th></th>\n",
              "      <th>Survived</th>\n",
              "      <th>SibSp</th>\n",
              "      <th>Parch</th>\n",
              "      <th>Fare</th>\n",
              "      <th>Embarked</th>\n",
              "      <th>AgeFill</th>\n",
              "      <th>Pclass_Gender</th>\n",
              "    </tr>\n",
              "  </thead>\n",
              "  <tbody>\n",
              "    <tr>\n",
              "      <th>0</th>\n",
              "      <td>0</td>\n",
              "      <td>1</td>\n",
              "      <td>0</td>\n",
              "      <td>7.2500</td>\n",
              "      <td>S</td>\n",
              "      <td>22.0</td>\n",
              "      <td>4</td>\n",
              "    </tr>\n",
              "    <tr>\n",
              "      <th>1</th>\n",
              "      <td>1</td>\n",
              "      <td>1</td>\n",
              "      <td>0</td>\n",
              "      <td>71.2833</td>\n",
              "      <td>C</td>\n",
              "      <td>38.0</td>\n",
              "      <td>1</td>\n",
              "    </tr>\n",
              "    <tr>\n",
              "      <th>2</th>\n",
              "      <td>1</td>\n",
              "      <td>0</td>\n",
              "      <td>0</td>\n",
              "      <td>7.9250</td>\n",
              "      <td>S</td>\n",
              "      <td>26.0</td>\n",
              "      <td>3</td>\n",
              "    </tr>\n",
              "    <tr>\n",
              "      <th>3</th>\n",
              "      <td>1</td>\n",
              "      <td>1</td>\n",
              "      <td>0</td>\n",
              "      <td>53.1000</td>\n",
              "      <td>S</td>\n",
              "      <td>35.0</td>\n",
              "      <td>1</td>\n",
              "    </tr>\n",
              "    <tr>\n",
              "      <th>4</th>\n",
              "      <td>0</td>\n",
              "      <td>0</td>\n",
              "      <td>0</td>\n",
              "      <td>8.0500</td>\n",
              "      <td>S</td>\n",
              "      <td>35.0</td>\n",
              "      <td>4</td>\n",
              "    </tr>\n",
              "  </tbody>\n",
              "</table>\n",
              "</div>"
            ],
            "text/plain": [
              "   Survived  SibSp  Parch     Fare Embarked  AgeFill  Pclass_Gender\n",
              "0         0      1      0   7.2500        S     22.0              4\n",
              "1         1      1      0  71.2833        C     38.0              1\n",
              "2         1      0      0   7.9250        S     26.0              3\n",
              "3         1      1      0  53.1000        S     35.0              1\n",
              "4         0      0      0   8.0500        S     35.0              4"
            ]
          },
          "metadata": {
            "tags": []
          },
          "execution_count": 28
        }
      ]
    },
    {
      "cell_type": "code",
      "metadata": {
        "id": "2z2Kp9NoH8E3"
      },
      "source": [
        "# 重要だよ！！！\n",
        "# 境界線の式\n",
        "#   w_1・x + w_2・y + w_0 = 0\n",
        "#   ⇒ y = (-w_1・x - w_0) / w_2\n",
        " \n",
        "# # 境界線 プロット\n",
        "# plt.plot([-2,2], map(lambda x: (-w_1 * x - w_0)/w_2, [-2,2]))\n",
        " \n",
        "# # データを重ねる\n",
        "# plt.scatter(X_train_std[y_train==0, 0], X_train_std[y_train==0, 1], c='red', marker='x', label='train 0')\n",
        "# plt.scatter(X_train_std[y_train==1, 0], X_train_std[y_train==1, 1], c='blue', marker='x', label='train 1')\n",
        "# plt.scatter(X_test_std[y_test==0, 0], X_test_std[y_test==0, 1], c='red', marker='o', s=60, label='test 0')\n",
        "# plt.scatter(X_test_std[y_test==1, 0], X_test_std[y_test==1, 1], c='blue', marker='o', s=60, label='test 1')"
      ],
      "execution_count": 29,
      "outputs": []
    },
    {
      "cell_type": "code",
      "metadata": {
        "id": "UGyW6VvKH8E4",
        "colab": {
          "base_uri": "https://localhost:8080/",
          "height": 301
        },
        "outputId": "a3fbd382-9099-4bd0-cc1e-3a7604db1c8f"
      },
      "source": [
        "np.random.seed = 0\n",
        "\n",
        "xmin, xmax = -5, 85\n",
        "ymin, ymax = 0.5, 4.5\n",
        "\n",
        "index_survived = titanic_df[titanic_df[\"Survived\"]==0].index\n",
        "index_notsurvived = titanic_df[titanic_df[\"Survived\"]==1].index\n",
        "\n",
        "from matplotlib.colors import ListedColormap\n",
        "fig, ax = plt.subplots()\n",
        "cm = plt.cm.RdBu\n",
        "cm_bright = ListedColormap(['#FF0000', '#0000FF'])\n",
        "sc = ax.scatter(titanic_df.loc[index_survived, 'AgeFill'],\n",
        "                titanic_df.loc[index_survived, 'Pclass_Gender']+(np.random.rand(len(index_survived))-0.5)*0.1,\n",
        "                color='r', label='Not Survived', alpha=0.3)\n",
        "sc = ax.scatter(titanic_df.loc[index_notsurvived, 'AgeFill'],\n",
        "                titanic_df.loc[index_notsurvived, 'Pclass_Gender']+(np.random.rand(len(index_notsurvived))-0.5)*0.1,\n",
        "                color='b', label='Survived', alpha=0.3)\n",
        "ax.set_xlabel('AgeFill')\n",
        "ax.set_ylabel('Pclass_Gender')\n",
        "ax.set_xlim(xmin, xmax)\n",
        "ax.set_ylim(ymin, ymax)\n",
        "ax.legend(bbox_to_anchor=(1.4, 1.03))"
      ],
      "execution_count": 30,
      "outputs": [
        {
          "output_type": "execute_result",
          "data": {
            "text/plain": [
              "<matplotlib.legend.Legend at 0x7fe7a6a81e10>"
            ]
          },
          "metadata": {
            "tags": []
          },
          "execution_count": 30
        },
        {
          "output_type": "display_data",
          "data": {
            "image/png": "[encoded data removed]",
            "text/plain": [
              "<Figure size 432x288 with 1 Axes>"
            ]
          },
          "metadata": {
            "tags": [],
            "needs_background": "light"
          }
        }
      ]
    },
    {
      "cell_type": "code",
      "metadata": {
        "id": "TXmPwxJxH8E-"
      },
      "source": [
        "#運賃だけのリストを作成\n",
        "data2 = titanic_df.loc[:, [\"AgeFill\", \"Pclass_Gender\"]].values"
      ],
      "execution_count": 31,
      "outputs": []
    },
    {
      "cell_type": "code",
      "metadata": {
        "id": "_oOb7x0uH8E_",
        "colab": {
          "base_uri": "https://localhost:8080/"
        },
        "outputId": "2aeeefec-4855-44cd-ca37-2e0f59d98491"
      },
      "source": [
        "data2"
      ],
      "execution_count": 32,
      "outputs": [
        {
          "output_type": "execute_result",
          "data": {
            "text/plain": [
              "array([[22.        ,  4.        ],\n",
              "       [38.        ,  1.        ],\n",
              "       [26.        ,  3.        ],\n",
              "       ...,\n",
              "       [29.69911765,  3.        ],\n",
              "       [26.        ,  2.        ],\n",
              "       [32.        ,  4.        ]])"
            ]
          },
          "metadata": {
            "tags": []
          },
          "execution_count": 32
        }
      ]
    },
    {
      "cell_type": "code",
      "metadata": {
        "id": "6GKyQspoH8FB"
      },
      "source": [
        "#生死フラグのみのリストを作成\n",
        "label2 =  titanic_df.loc[:,[\"Survived\"]].values"
      ],
      "execution_count": 33,
      "outputs": []
    },
    {
      "cell_type": "code",
      "metadata": {
        "id": "VjrHAZ5_H8FC"
      },
      "source": [
        "model2 = LogisticRegression()"
      ],
      "execution_count": 34,
      "outputs": []
    },
    {
      "cell_type": "code",
      "metadata": {
        "id": "9ErraOwiH8FD",
        "colab": {
          "base_uri": "https://localhost:8080/"
        },
        "outputId": "c8cdff91-edc4-4016-e3a8-fdcee5db25b0"
      },
      "source": [
        "model2.fit(data2, label2.ravel())"
      ],
      "execution_count": 35,
      "outputs": [
        {
          "output_type": "execute_result",
          "data": {
            "text/plain": [
              "LogisticRegression(C=1.0, class_weight=None, dual=False, fit_intercept=True,\n",
              "                   intercept_scaling=1, l1_ratio=None, max_iter=100,\n",
              "                   multi_class='auto', n_jobs=None, penalty='l2',\n",
              "                   random_state=None, solver='lbfgs', tol=0.0001, verbose=0,\n",
              "                   warm_start=False)"
            ]
          },
          "metadata": {
            "tags": []
          },
          "execution_count": 35
        }
      ]
    },
    {
      "cell_type": "markdown",
      "metadata": {
        "id": "KytUohdpPl1K"
      },
      "source": [
        "年齢が10歳で特徴量が1の人を見てみると高い確率で生き残る。"
      ]
    },
    {
      "cell_type": "code",
      "metadata": {
        "id": "tC81mqUTH8FE",
        "colab": {
          "base_uri": "https://localhost:8080/"
        },
        "outputId": "657ef125-8858-4ec0-92e8-bee569f051c3"
      },
      "source": [
        "model2.predict([[10,1]])"
      ],
      "execution_count": 36,
      "outputs": [
        {
          "output_type": "execute_result",
          "data": {
            "text/plain": [
              "array([1])"
            ]
          },
          "metadata": {
            "tags": []
          },
          "execution_count": 36
        }
      ]
    },
    {
      "cell_type": "code",
      "metadata": {
        "id": "ZR4qVs8cH8FG",
        "colab": {
          "base_uri": "https://localhost:8080/"
        },
        "outputId": "ae5246c8-148f-4143-ff13-f0e5f6b7e7f5"
      },
      "source": [
        "model2.predict_proba([[10,1]])"
      ],
      "execution_count": 37,
      "outputs": [
        {
          "output_type": "execute_result",
          "data": {
            "text/plain": [
              "array([[0.03754749, 0.96245251]])"
            ]
          },
          "metadata": {
            "tags": []
          },
          "execution_count": 37
        }
      ]
    },
    {
      "cell_type": "markdown",
      "metadata": {
        "id": "t2IzZvmiQvk6"
      },
      "source": [
        "年齢が80歳で特徴量が4だった人は高い確率で亡くなってしまう。\n"
      ]
    },
    {
      "cell_type": "code",
      "metadata": {
        "colab": {
          "base_uri": "https://localhost:8080/"
        },
        "id": "h8BIqXDIQptW",
        "outputId": "a22e76a2-7cf7-48a2-98a2-f1fe0ed789bb"
      },
      "source": [
        "model2.predict([[80,4]])"
      ],
      "execution_count": 38,
      "outputs": [
        {
          "output_type": "execute_result",
          "data": {
            "text/plain": [
              "array([0])"
            ]
          },
          "metadata": {
            "tags": []
          },
          "execution_count": 38
        }
      ]
    },
    {
      "cell_type": "code",
      "metadata": {
        "colab": {
          "base_uri": "https://localhost:8080/"
        },
        "id": "e4G3GOkiQ3TK",
        "outputId": "c98c8770-7b4e-487c-e781-4490cddde056"
      },
      "source": [
        "model2.predict_proba([[80,4]])"
      ],
      "execution_count": 39,
      "outputs": [
        {
          "output_type": "execute_result",
          "data": {
            "text/plain": [
              "array([[0.98928919, 0.01071081]])"
            ]
          },
          "metadata": {
            "tags": []
          },
          "execution_count": 39
        }
      ]
    },
    {
      "cell_type": "code",
      "metadata": {
        "id": "ukigMWE_H8FH",
        "colab": {
          "base_uri": "https://localhost:8080/",
          "height": 138
        },
        "outputId": "250ea991-c656-40bd-e993-6392002d7e5f"
      },
      "source": [
        "titanic_df.head(3)"
      ],
      "execution_count": 40,
      "outputs": [
        {
          "output_type": "execute_result",
          "data": {
            "text/html": [
              "<div>\n",
              "<style scoped>\n",
              "    .dataframe tbody tr th:only-of-type {\n",
              "        vertical-align: middle;\n",
              "    }\n",
              "\n",
              "    .dataframe tbody tr th {\n",
              "        vertical-align: top;\n",
              "    }\n",
              "\n",
              "    .dataframe thead th {\n",
              "        text-align: right;\n",
              "    }\n",
              "</style>\n",
              "<table border=\"1\" class=\"dataframe\">\n",
              "  <thead>\n",
              "    <tr style=\"text-align: right;\">\n",
              "      <th></th>\n",
              "      <th>Survived</th>\n",
              "      <th>SibSp</th>\n",
              "      <th>Parch</th>\n",
              "      <th>Fare</th>\n",
              "      <th>Embarked</th>\n",
              "      <th>AgeFill</th>\n",
              "      <th>Pclass_Gender</th>\n",
              "    </tr>\n",
              "  </thead>\n",
              "  <tbody>\n",
              "    <tr>\n",
              "      <th>0</th>\n",
              "      <td>0</td>\n",
              "      <td>1</td>\n",
              "      <td>0</td>\n",
              "      <td>7.2500</td>\n",
              "      <td>S</td>\n",
              "      <td>22.0</td>\n",
              "      <td>4</td>\n",
              "    </tr>\n",
              "    <tr>\n",
              "      <th>1</th>\n",
              "      <td>1</td>\n",
              "      <td>1</td>\n",
              "      <td>0</td>\n",
              "      <td>71.2833</td>\n",
              "      <td>C</td>\n",
              "      <td>38.0</td>\n",
              "      <td>1</td>\n",
              "    </tr>\n",
              "    <tr>\n",
              "      <th>2</th>\n",
              "      <td>1</td>\n",
              "      <td>0</td>\n",
              "      <td>0</td>\n",
              "      <td>7.9250</td>\n",
              "      <td>S</td>\n",
              "      <td>26.0</td>\n",
              "      <td>3</td>\n",
              "    </tr>\n",
              "  </tbody>\n",
              "</table>\n",
              "</div>"
            ],
            "text/plain": [
              "   Survived  SibSp  Parch     Fare Embarked  AgeFill  Pclass_Gender\n",
              "0         0      1      0   7.2500        S     22.0              4\n",
              "1         1      1      0  71.2833        C     38.0              1\n",
              "2         1      0      0   7.9250        S     26.0              3"
            ]
          },
          "metadata": {
            "tags": []
          },
          "execution_count": 40
        }
      ]
    },
    {
      "cell_type": "markdown",
      "metadata": {
        "id": "mctCyT9wrQjI"
      },
      "source": [
        "## 決定境界の作成"
      ]
    },
    {
      "cell_type": "markdown",
      "metadata": {
        "id": "FaUyxnrHOczb"
      },
      "source": [
        "* 新しい特徴量を使用してロジスティック回帰を使用する事で上手く分離ができるような決定境界が作成できるようになる。\n",
        "\n",
        " - 上手く決定境界ができるような（判別曲線が引けるような）データの分離ができる。\n",
        "\n",
        " - 特徴空間上での分離をする事によって、元のデータを使うより、より正確に分類ができるようになる。\n",
        "\n"
      ]
    },
    {
      "cell_type": "code",
      "metadata": {
        "id": "IaHT-hUCH8FJ",
        "colab": {
          "base_uri": "https://localhost:8080/",
          "height": 301
        },
        "outputId": "c76170da-9a48-4e20-8360-c8ecf9a8acd7"
      },
      "source": [
        "h = 0.02\n",
        "xmin, xmax = -5, 85\n",
        "ymin, ymax = 0.5, 4.5\n",
        "xx, yy = np.meshgrid(np.arange(xmin, xmax, h), np.arange(ymin, ymax, h))\n",
        "Z = model2.predict_proba(np.c_[xx.ravel(), yy.ravel()])[:, 1]\n",
        "Z = Z.reshape(xx.shape)\n",
        "\n",
        "fig, ax = plt.subplots()\n",
        "levels = np.linspace(0, 1.0)\n",
        "cm = plt.cm.RdBu\n",
        "cm_bright = ListedColormap(['#FF0000', '#0000FF'])\n",
        "#contour = ax.contourf(xx, yy, Z, cmap=cm, levels=levels, alpha=0.5)\n",
        "\n",
        "sc = ax.scatter(titanic_df.loc[index_survived, 'AgeFill'],\n",
        "                titanic_df.loc[index_survived, 'Pclass_Gender']+(np.random.rand(len(index_survived))-0.5)*0.1,\n",
        "                color='r', label='Not Survived', alpha=0.3)\n",
        "sc = ax.scatter(titanic_df.loc[index_notsurvived, 'AgeFill'],\n",
        "                titanic_df.loc[index_notsurvived, 'Pclass_Gender']+(np.random.rand(len(index_notsurvived))-0.5)*0.1,\n",
        "                color='b', label='Survived', alpha=0.3)\n",
        "\n",
        "ax.set_xlabel('AgeFill')\n",
        "ax.set_ylabel('Pclass_Gender')\n",
        "ax.set_xlim(xmin, xmax)\n",
        "ax.set_ylim(ymin, ymax)\n",
        "#fig.colorbar(contour)\n",
        "\n",
        "x1 = xmin\n",
        "x2 = xmax\n",
        "y1 = -1*(model2.intercept_[0]+model2.coef_[0][0]*xmin)/model2.coef_[0][1]\n",
        "y2 = -1*(model2.intercept_[0]+model2.coef_[0][0]*xmax)/model2.coef_[0][1]\n",
        "ax.plot([x1, x2] ,[y1, y2], 'k--')"
      ],
      "execution_count": 41,
      "outputs": [
        {
          "output_type": "execute_result",
          "data": {
            "text/plain": [
              "[<matplotlib.lines.Line2D at 0x7fe7a6eee1d0>]"
            ]
          },
          "metadata": {
            "tags": []
          },
          "execution_count": 41
        },
        {
          "output_type": "display_data",
          "data": {
            "image/png": "[encoded data removed]",
            "text/plain": [
              "<Figure size 432x288 with 1 Axes>"
            ]
          },
          "metadata": {
            "tags": [],
            "needs_background": "light"
          }
        }
      ]
    },
    {
      "cell_type": "markdown",
      "metadata": {
        "id": "lxxFTbrFTCJy"
      },
      "source": [
        "実際に、決定境界を引いてみると、特徴空間上のこの線よりこっちにいれば生き残っている、特徴空間上のこの線よりこっちにいれば亡くなる\n",
        "。こういうような判断ができるようになります。"
      ]
    },
    {
      "cell_type": "markdown",
      "metadata": {
        "collapsed": true,
        "id": "iAd-9SeJH8FL"
      },
      "source": [
        "#<h1>2. モデル評価</h1>\n",
        "<h3>混同行列とクロスバリデーション</h3>"
      ]
    },
    {
      "cell_type": "code",
      "metadata": {
        "id": "YF4ShOSzH8FL"
      },
      "source": [
        "from sklearn.model_selection import train_test_split"
      ],
      "execution_count": 42,
      "outputs": []
    },
    {
      "cell_type": "code",
      "metadata": {
        "id": "Pf0EZCTEH8FN",
        "colab": {
          "base_uri": "https://localhost:8080/"
        },
        "outputId": "14c7f070-e489-47ef-88d1-146faf63ff30"
      },
      "source": [
        "traindata1, testdata1, trainlabel1, testlabel1 = train_test_split(data1, label1, test_size=0.2)\n",
        "traindata1.shape\n",
        "trainlabel1.shape"
      ],
      "execution_count": 43,
      "outputs": [
        {
          "output_type": "execute_result",
          "data": {
            "text/plain": [
              "(712, 1)"
            ]
          },
          "metadata": {
            "tags": []
          },
          "execution_count": 43
        }
      ]
    },
    {
      "cell_type": "code",
      "metadata": {
        "id": "vCm_KZgmH8FP",
        "colab": {
          "base_uri": "https://localhost:8080/"
        },
        "outputId": "5601e8a7-a3b4-4826-e001-ef0826e7cb1c"
      },
      "source": [
        "traindata2, testdata2, trainlabel2, testlabel2 = train_test_split(data2, label2, test_size=0.2)\n",
        "traindata2.shape\n",
        "trainlabel2.shape\n",
        "#本来は同じデータセットを分割しなければいけない。(簡易的に別々に分割している。)"
      ],
      "execution_count": 44,
      "outputs": [
        {
          "output_type": "execute_result",
          "data": {
            "text/plain": [
              "(712, 1)"
            ]
          },
          "metadata": {
            "tags": []
          },
          "execution_count": 44
        }
      ]
    },
    {
      "cell_type": "code",
      "metadata": {
        "id": "bJ5Zq-HnH8FQ",
        "colab": {
          "base_uri": "https://localhost:8080/"
        },
        "outputId": "93306d2d-af0c-47be-82de-7337a4946f04"
      },
      "source": [
        "data = titanic_df.loc[:, ].values\n",
        "label =  titanic_df.loc[:,[\"Survived\"]].values\n",
        "traindata, testdata, trainlabel, testlabel = train_test_split(data, label, test_size=0.2)\n",
        "traindata.shape\n",
        "trainlabel.shape"
      ],
      "execution_count": 45,
      "outputs": [
        {
          "output_type": "execute_result",
          "data": {
            "text/plain": [
              "(712, 1)"
            ]
          },
          "metadata": {
            "tags": []
          },
          "execution_count": 45
        }
      ]
    },
    {
      "cell_type": "code",
      "metadata": {
        "id": "BkiB3_-uH8FR"
      },
      "source": [
        "eval_model1=LogisticRegression()\n",
        "eval_model2=LogisticRegression()\n",
        "#eval_model=LogisticRegression()"
      ],
      "execution_count": 46,
      "outputs": []
    },
    {
      "cell_type": "code",
      "metadata": {
        "scrolled": true,
        "id": "57QjCMR6H8FT"
      },
      "source": [
        "predictor_eval1=eval_model1.fit(traindata1, trainlabel1.ravel()).predict(testdata1)\n",
        "predictor_eval2=eval_model2.fit(traindata2, trainlabel2.ravel()).predict(testdata2)\n",
        "#predictor_eval=eval_model.fit(traindata, trainlabel).predict(testdata)"
      ],
      "execution_count": 47,
      "outputs": []
    },
    {
      "cell_type": "code",
      "metadata": {
        "id": "AW0QwkVoH8FV",
        "colab": {
          "base_uri": "https://localhost:8080/"
        },
        "outputId": "7f589ecb-07fd-47a6-ce5c-ee2167985eae"
      },
      "source": [
        "eval_model1.score(traindata1, trainlabel1)"
      ],
      "execution_count": 48,
      "outputs": [
        {
          "output_type": "execute_result",
          "data": {
            "text/plain": [
              "0.6601123595505618"
            ]
          },
          "metadata": {
            "tags": []
          },
          "execution_count": 48
        }
      ]
    },
    {
      "cell_type": "code",
      "metadata": {
        "id": "7kUQ3MXwH8FY",
        "colab": {
          "base_uri": "https://localhost:8080/"
        },
        "outputId": "13d1752c-6dc8-4f24-83fe-1e5397fb16a3"
      },
      "source": [
        "eval_model1.score(testdata1, testlabel1)"
      ],
      "execution_count": 49,
      "outputs": [
        {
          "output_type": "execute_result",
          "data": {
            "text/plain": [
              "0.6871508379888268"
            ]
          },
          "metadata": {
            "tags": []
          },
          "execution_count": 49
        }
      ]
    },
    {
      "cell_type": "code",
      "metadata": {
        "id": "GgtwJ-yEH8Fb",
        "colab": {
          "base_uri": "https://localhost:8080/"
        },
        "outputId": "7fbc9bd2-c898-45c8-f77f-296e1c2cfe28"
      },
      "source": [
        "eval_model2.score(traindata2, trainlabel2)"
      ],
      "execution_count": 50,
      "outputs": [
        {
          "output_type": "execute_result",
          "data": {
            "text/plain": [
              "0.7654494382022472"
            ]
          },
          "metadata": {
            "tags": []
          },
          "execution_count": 50
        }
      ]
    },
    {
      "cell_type": "code",
      "metadata": {
        "id": "u7Q4CjPLH8Fc",
        "colab": {
          "base_uri": "https://localhost:8080/"
        },
        "outputId": "01928281-bb27-4033-8b3c-a3b727854927"
      },
      "source": [
        "eval_model2.score(testdata2, testlabel2)"
      ],
      "execution_count": 51,
      "outputs": [
        {
          "output_type": "execute_result",
          "data": {
            "text/plain": [
              "0.7877094972067039"
            ]
          },
          "metadata": {
            "tags": []
          },
          "execution_count": 51
        }
      ]
    },
    {
      "cell_type": "markdown",
      "metadata": {
        "id": "7Vmr8bjFoZDK"
      },
      "source": [
        "## 混同行列の表示"
      ]
    },
    {
      "cell_type": "code",
      "metadata": {
        "id": "13zB3D25H8Ff",
        "colab": {
          "base_uri": "https://localhost:8080/"
        },
        "outputId": "244ba859-2636-4e6c-d3f4-e1ad02a1c09f"
      },
      "source": [
        "from sklearn import metrics\n",
        "print(metrics.classification_report(testlabel1, predictor_eval1))\n",
        "print(metrics.classification_report(testlabel2, predictor_eval2)) "
      ],
      "execution_count": 52,
      "outputs": [
        {
          "output_type": "stream",
          "text": [
            "              precision    recall  f1-score   support\n",
            "\n",
            "           0       0.68      0.94      0.79       113\n",
            "           1       0.71      0.26      0.38        66\n",
            "\n",
            "    accuracy                           0.69       179\n",
            "   macro avg       0.70      0.60      0.58       179\n",
            "weighted avg       0.69      0.69      0.64       179\n",
            "\n",
            "              precision    recall  f1-score   support\n",
            "\n",
            "           0       0.79      0.89      0.83       107\n",
            "           1       0.79      0.64      0.71        72\n",
            "\n",
            "    accuracy                           0.79       179\n",
            "   macro avg       0.79      0.76      0.77       179\n",
            "weighted avg       0.79      0.79      0.78       179\n",
            "\n"
          ],
          "name": "stdout"
        }
      ]
    },
    {
      "cell_type": "code",
      "metadata": {
        "id": "LWCLICWJH8Fi"
      },
      "source": [
        "from sklearn.metrics import confusion_matrix\n",
        "confusion_matrix1=confusion_matrix(testlabel1, predictor_eval1)\n",
        "confusion_matrix2=confusion_matrix(testlabel2, predictor_eval2)"
      ],
      "execution_count": 53,
      "outputs": []
    },
    {
      "cell_type": "markdown",
      "metadata": {
        "id": "ch2AQBaMAGMg"
      },
      "source": [
        "講義資料による混同行列の表示\n",
        "\n",
        "| | 検証用データ positive | 検証用データ negative  \n",
        "-- | -- | --  \n",
        "モデルの予想結果 positive |\t真陽性（Ture Positive）| 偽陰性（False Positive）\n",
        "モデルの予想結果 negative\t| 偽陽性（False Negative）| 真陰性（Ture Negative）"
      ]
    },
    {
      "cell_type": "markdown",
      "metadata": {
        "id": "LuLqnV5tw2xf"
      },
      "source": [
        "下記におけるscikit-learnによる混同行列の表示  \n",
        "\n",
        "|  | | モデルの予想結果 negative 0 | モデルの予想結果 positive 1  \n",
        "-- | -- | -- | --  \n",
        "検証用データ negative | 0 |\t真陰性（Ture Negative）| 偽陰性（False Positive）\n",
        "検証用データ positive\t| 1 | 偽陽性（False Negative）| 真陽性（Ture Positive）"
      ]
    },
    {
      "cell_type": "code",
      "metadata": {
        "id": "4IzYAxl1H8Fk",
        "colab": {
          "base_uri": "https://localhost:8080/"
        },
        "outputId": "95e27b89-b87e-403f-986f-b3eec01bb7e7"
      },
      "source": [
        "confusion_matrix1"
      ],
      "execution_count": 54,
      "outputs": [
        {
          "output_type": "execute_result",
          "data": {
            "text/plain": [
              "array([[106,   7],\n",
              "       [ 49,  17]])"
            ]
          },
          "metadata": {
            "tags": []
          },
          "execution_count": 54
        }
      ]
    },
    {
      "cell_type": "code",
      "metadata": {
        "id": "oZD0v6whH8Fl",
        "colab": {
          "base_uri": "https://localhost:8080/"
        },
        "outputId": "84fcdc0b-6b41-4cf0-876f-a335ec322b06"
      },
      "source": [
        "confusion_matrix2"
      ],
      "execution_count": 55,
      "outputs": [
        {
          "output_type": "execute_result",
          "data": {
            "text/plain": [
              "array([[95, 12],\n",
              "       [26, 46]])"
            ]
          },
          "metadata": {
            "tags": []
          },
          "execution_count": 55
        }
      ]
    },
    {
      "cell_type": "code",
      "metadata": {
        "id": "Bc_j8YCiH8Fn",
        "colab": {
          "base_uri": "https://localhost:8080/",
          "height": 429
        },
        "outputId": "7e8b6174-50f2-463c-d882-a18e6a1c6396"
      },
      "source": [
        "fig = plt.figure(figsize = (7,7))\n",
        "#plt.title(title)\n",
        "sns.heatmap(\n",
        "    confusion_matrix1,\n",
        "    vmin=None,\n",
        "    vmax=None,\n",
        "    cmap=\"Blues\",\n",
        "    center=None,\n",
        "    robust=False,\n",
        "    annot=True, fmt='.2g',\n",
        "    annot_kws=None,\n",
        "    linewidths=0,\n",
        "    linecolor='white',\n",
        "    cbar=True,\n",
        "    cbar_kws=None,\n",
        "    cbar_ax=None,\n",
        "    square=True, ax=None, \n",
        "    #xticklabels=columns,\n",
        "    #yticklabels=columns,\n",
        "    mask=None)"
      ],
      "execution_count": 56,
      "outputs": [
        {
          "output_type": "execute_result",
          "data": {
            "text/plain": [
              "<matplotlib.axes._subplots.AxesSubplot at 0x7fe7a5f5e290>"
            ]
          },
          "metadata": {
            "tags": []
          },
          "execution_count": 56
        },
        {
          "output_type": "display_data",
          "data": {
            "image/png": "[encoded data removed]",
            "text/plain": [
              "<Figure size 504x504 with 2 Axes>"
            ]
          },
          "metadata": {
            "tags": [],
            "needs_background": "light"
          }
        }
      ]
    },
    {
      "cell_type": "markdown",
      "metadata": {
        "id": "sTlcMorCzirw"
      },
      "source": [
        "ヒートマップで明らかな事は、True Negativeが高く、False Positiveが低い事であると思われる。\n",
        "それは上の評価指標（classification_report）では、再現率（Recall）の高さ（0.92）として表現されている。"
      ]
    },
    {
      "cell_type": "code",
      "metadata": {
        "id": "5i4-ExMPH8Fo",
        "colab": {
          "base_uri": "https://localhost:8080/",
          "height": 429
        },
        "outputId": "c0fcc5d1-e04a-4e05-a010-55680f4d9bcf"
      },
      "source": [
        "fig = plt.figure(figsize = (7,7))\n",
        "#plt.title(title)\n",
        "sns.heatmap(\n",
        "    confusion_matrix2,\n",
        "    vmin=None,\n",
        "    vmax=None,\n",
        "    cmap=\"Blues\",\n",
        "    center=None,\n",
        "    robust=False,\n",
        "    annot=True, fmt='.2g',\n",
        "    annot_kws=None,\n",
        "    linewidths=0,\n",
        "    linecolor='white',\n",
        "    cbar=True,\n",
        "    cbar_kws=None,\n",
        "    cbar_ax=None,\n",
        "    square=True, ax=None, \n",
        "    #xticklabels=columns,\n",
        "    #yticklabels=columns,\n",
        "    mask=None)"
      ],
      "execution_count": 57,
      "outputs": [
        {
          "output_type": "execute_result",
          "data": {
            "text/plain": [
              "<matplotlib.axes._subplots.AxesSubplot at 0x7fe79d61c2d0>"
            ]
          },
          "metadata": {
            "tags": []
          },
          "execution_count": 57
        },
        {
          "output_type": "display_data",
          "data": {
            "image/png": "[encoded data removed]",
            "text/plain": [
              "<Figure size 504x504 with 2 Axes>"
            ]
          },
          "metadata": {
            "tags": [],
            "needs_background": "light"
          }
        }
      ]
    },
    {
      "cell_type": "code",
      "metadata": {
        "id": "EflYPWONH8Fs",
        "colab": {
          "base_uri": "https://localhost:8080/",
          "height": 372
        },
        "outputId": "77effae8-7728-4ed3-c22b-8efb0582926a"
      },
      "source": [
        "#Paired categorical plots\n",
        "\n",
        "import seaborn as sns\n",
        "sns.set(style=\"whitegrid\")\n",
        "\n",
        "# Load the example Titanic dataset\n",
        "titanic = sns.load_dataset(\"titanic\")\n",
        "\n",
        "# Set up a grid to plot survival probability against several variables\n",
        "g = sns.PairGrid(titanic, y_vars=\"survived\",\n",
        "                 x_vars=[\"class\", \"sex\", \"who\", \"alone\"],\n",
        "                 height=5, aspect=.5)\n",
        "\n",
        "# Draw a seaborn pointplot onto each Axes\n",
        "g.map(sns.pointplot, color=sns.xkcd_rgb[\"plum\"])\n",
        "g.set(ylim=(0, 1))\n",
        "sns.despine(fig=g.fig, left=True)\n",
        "\n",
        "plt.show()"
      ],
      "execution_count": 58,
      "outputs": [
        {
          "output_type": "display_data",
          "data": {
            "image/png": "[encoded data removed]",
            "text/plain": [
              "<Figure size 720x360 with 4 Axes>"
            ]
          },
          "metadata": {
            "tags": []
          }
        }
      ]
    },
    {
      "cell_type": "code",
      "metadata": {
        "id": "TIzfcrq7H8Fu",
        "colab": {
          "base_uri": "https://localhost:8080/",
          "height": 382
        },
        "outputId": "9e4b2a56-1af8-4d94-c64d-e7a1b48fe151"
      },
      "source": [
        "#Faceted logistic regression\n",
        "\n",
        "import pandas.testing as tm\n",
        "import seaborn as sns\n",
        "sns.set(style=\"darkgrid\")\n",
        "\n",
        "# Load the example titanic dataset\n",
        "df = sns.load_dataset(\"titanic\")\n",
        "\n",
        "# Make a custom palette with gendered colors\n",
        "pal = dict(male=\"#6495ED\", female=\"#F08080\")\n",
        "\n",
        "# Show the survival proability as a function of age and sex\n",
        "g = sns.lmplot(x=\"age\", y=\"survived\", col=\"sex\", hue=\"sex\", data=df,\n",
        "               palette=pal, y_jitter=.02, logistic=True)\n",
        "g.set(xlim=(0, 80), ylim=(-.05, 1.05))\n",
        "plt.show()"
      ],
      "execution_count": 60,
      "outputs": [
        {
          "output_type": "display_data",
          "data": {
            "image/png": "[encoded data removed]",
            "text/plain": [
              "<Figure size 720x360 with 2 Axes>"
            ]
          },
          "metadata": {
            "tags": []
          }
        }
      ]
    }
  ]
}